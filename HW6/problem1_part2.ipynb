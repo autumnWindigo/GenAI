{
  "nbformat": 4,
  "nbformat_minor": 0,
  "metadata": {
    "colab": {
      "provenance": [],
      "gpuType": "V28",
      "include_colab_link": true
    },
    "kernelspec": {
      "name": "python3",
      "display_name": "Python 3"
    },
    "language_info": {
      "name": "python"
    },
    "accelerator": "TPU"
  },
  "cells": [
    {
      "cell_type": "markdown",
      "metadata": {
        "id": "view-in-github",
        "colab_type": "text"
      },
      "source": [
        "<a href=\"https://colab.research.google.com/github/autumnWindigo/GenAI/blob/main/HW6/problem1_part2.ipynb\" target=\"_parent\"><img src=\"https://colab.research.google.com/assets/colab-badge.svg\" alt=\"Open In Colab\"/></a>"
      ]
    },
    {
      "cell_type": "markdown",
      "source": [
        "# Bash setup"
      ],
      "metadata": {
        "id": "TOhesCy3SGHB"
      }
    },
    {
      "cell_type": "markdown",
      "source": [
        "## Download Music"
      ],
      "metadata": {
        "id": "CrmtvrR9RznY"
      }
    },
    {
      "cell_type": "code",
      "execution_count": 1,
      "metadata": {
        "colab": {
          "base_uri": "https://localhost:8080/"
        },
        "id": "1IdOz61tQMCh",
        "outputId": "923bce33-d8b6-4ef4-f974-9ac3253a72bd"
      },
      "outputs": [
        {
          "output_type": "stream",
          "name": "stdout",
          "text": [
            "Done!\n"
          ]
        }
      ],
      "source": [
        "!mkdir data\n",
        "!curl -O http://www.jsbach.net/midi/cs1-1pre.mid -s && \\\n",
        "curl -O http://www.jsbach.net/midi/cs1-2all.mid -s && \\\n",
        "curl -O http://www.jsbach.net/midi/cs1-3cou.mid -s && \\\n",
        "curl -O http://www.jsbach.net/midi/cs1-4sar.mid -s && \\\n",
        "curl -O http://www.jsbach.net/midi/cs1-5men.mid -s && \\\n",
        "curl -O http://www.jsbach.net/midi/cs1-6gig.mid -s && \\\n",
        "curl -O http://www.jsbach.net/midi/cs2-1pre.mid -s && \\\n",
        "curl -O http://www.jsbach.net/midi/cs2-2all.mid -s && \\\n",
        "curl -O http://www.jsbach.net/midi/cs2-3cou.mid -s && \\\n",
        "curl -O http://www.jsbach.net/midi/cs2-4sar.mid -s && \\\n",
        "curl -O http://www.jsbach.net/midi/cs2-5men.mid -s && \\\n",
        "curl -O http://www.jsbach.net/midi/cs2-6gig.mid -s && \\\n",
        "curl -O http://www.jsbach.net/midi/cs3-1pre.mid -s && \\\n",
        "curl -O http://www.jsbach.net/midi/cs3-2all.mid -s && \\\n",
        "curl -O http://www.jsbach.net/midi/cs3-3cou.mid -s && \\\n",
        "curl -O http://www.jsbach.net/midi/cs3-4sar.mid -s && \\\n",
        "curl -O http://www.jsbach.net/midi/cs3-5bou.mid -s && \\\n",
        "curl -O http://www.jsbach.net/midi/cs3-6gig.mid -s && \\\n",
        "curl -O http://www.jsbach.net/midi/cs4-1pre.mid -s && \\\n",
        "curl -O http://www.jsbach.net/midi/cs4-2all.mid -s && \\\n",
        "curl -O http://www.jsbach.net/midi/cs4-3cou.mid -s && \\\n",
        "curl -O http://www.jsbach.net/midi/cs4-4sar.mid -s && \\\n",
        "curl -O http://www.jsbach.net/midi/cs4-5bou.mid -s && \\\n",
        "curl -O http://www.jsbach.net/midi/cs4-6gig.mid -s && \\\n",
        "curl -O http://www.jsbach.net/midi/cs5-1pre.mid -s && \\\n",
        "curl -O http://www.jsbach.net/midi/cs5-2all.mid -s && \\\n",
        "curl -O http://www.jsbach.net/midi/cs5-3cou.mid -s && \\\n",
        "curl -O http://www.jsbach.net/midi/cs5-4sar.mid -s && \\\n",
        "curl -O http://www.jsbach.net/midi/cs5-5gav.mid -s && \\\n",
        "curl -O http://www.jsbach.net/midi/cs5-6gig.mid -s && \\\n",
        "curl -O http://www.jsbach.net/midi/cs6-1pre.mid -s && \\\n",
        "curl -O http://www.jsbach.net/midi/cs6-2all.mid -s && \\\n",
        "curl -O http://www.jsbach.net/midi/cs6-3cou.mid -s && \\\n",
        "curl -O http://www.jsbach.net/midi/cs6-4sar.mid -s && \\\n",
        "curl -O http://www.jsbach.net/midi/cs6-5gav.mid -s && \\\n",
        "curl -O http://www.jsbach.net/midi/cs6-6gig.mid -s && \\\n",
        "echo 'Done!'\n"
      ]
    },
    {
      "cell_type": "markdown",
      "source": [
        "## Install needed programs"
      ],
      "metadata": {
        "id": "SKVrKpiFSQ73"
      }
    },
    {
      "cell_type": "code",
      "source": [
        "!apt-get install musescore\n",
        "!apt-get install music21\n",
        "!apt-get install fluidsynth\n",
        "!pip install music21"
      ],
      "metadata": {
        "colab": {
          "base_uri": "https://localhost:8080/"
        },
        "id": "MLUhvdoFSS0q",
        "outputId": "ce1ec2c2-adbf-44b9-ea7b-7193c14e47d0",
        "collapsed": true
      },
      "execution_count": 2,
      "outputs": [
        {
          "output_type": "stream",
          "name": "stdout",
          "text": [
            "Reading package lists... Done\n",
            "Building dependency tree... Done\n",
            "Reading state information... Done\n",
            "The following additional packages will be installed:\n",
            "  desktop-file-utils fonts-freefont-ttf libevdev2 libgudev-1.0-0 libinput-bin libinput10 libmd4c0\n",
            "  libmtdev1 libportaudio2 libportmidi0 libqt5core5a libqt5dbus5 libqt5gui5 libqt5help5\n",
            "  libqt5network5 libqt5printsupport5 libqt5qml5 libqt5qmlmodels5 libqt5qmlworkerscript5\n",
            "  libqt5quick5 libqt5sql5 libqt5sql5-sqlite libqt5svg5 libqt5widgets5 libqt5xml5 libqt5xmlpatterns5\n",
            "  libwacom-bin libwacom-common libwacom9 libxcb-icccm4 libxcb-image0 libxcb-keysyms1\n",
            "  libxcb-render-util0 libxcb-util1 libxcb-xinerama0 libxcb-xinput0 libxcb-xkb1 libxkbcommon-x11-0\n",
            "  musescore-common musescore-general-soundfont-small qml-module-qt-labs-folderlistmodel\n",
            "  qml-module-qt-labs-settings qml-module-qtgraphicaleffects qml-module-qtqml\n",
            "  qml-module-qtqml-models2 qml-module-qtquick-controls qml-module-qtquick-dialogs\n",
            "  qml-module-qtquick-layouts qml-module-qtquick-privatewidgets qml-module-qtquick-window2\n",
            "  qml-module-qtquick2 qt5-gtk-platformtheme qttranslations5-l10n\n",
            "Suggested packages:\n",
            "  qt5-image-formats-plugins qtwayland5 qt5-qmltooling-plugins pulseaudio-utils\n",
            "The following NEW packages will be installed:\n",
            "  desktop-file-utils fonts-freefont-ttf libevdev2 libgudev-1.0-0 libinput-bin libinput10 libmd4c0\n",
            "  libmtdev1 libportaudio2 libportmidi0 libqt5core5a libqt5dbus5 libqt5gui5 libqt5help5\n",
            "  libqt5network5 libqt5printsupport5 libqt5qml5 libqt5qmlmodels5 libqt5qmlworkerscript5\n",
            "  libqt5quick5 libqt5sql5 libqt5sql5-sqlite libqt5svg5 libqt5widgets5 libqt5xml5 libqt5xmlpatterns5\n",
            "  libwacom-bin libwacom-common libwacom9 libxcb-icccm4 libxcb-image0 libxcb-keysyms1\n",
            "  libxcb-render-util0 libxcb-util1 libxcb-xinerama0 libxcb-xinput0 libxcb-xkb1 libxkbcommon-x11-0\n",
            "  musescore musescore-common musescore-general-soundfont-small qml-module-qt-labs-folderlistmodel\n",
            "  qml-module-qt-labs-settings qml-module-qtgraphicaleffects qml-module-qtqml\n",
            "  qml-module-qtqml-models2 qml-module-qtquick-controls qml-module-qtquick-dialogs\n",
            "  qml-module-qtquick-layouts qml-module-qtquick-privatewidgets qml-module-qtquick-window2\n",
            "  qml-module-qtquick2 qt5-gtk-platformtheme qttranslations5-l10n\n",
            "0 upgraded, 54 newly installed, 0 to remove and 0 not upgraded.\n",
            "Need to get 63.2 MB of archives.\n",
            "After this operation, 162 MB of additional disk space will be used.\n",
            "Get:1 http://archive.ubuntu.com/ubuntu jammy-updates/universe amd64 libqt5core5a amd64 5.15.3+dfsg-2ubuntu0.2 [2,006 kB]\n",
            "Get:2 http://archive.ubuntu.com/ubuntu jammy/main amd64 libevdev2 amd64 1.12.1+dfsg-1 [39.5 kB]\n",
            "Get:3 http://archive.ubuntu.com/ubuntu jammy/main amd64 libmtdev1 amd64 1.1.6-1build4 [14.5 kB]\n",
            "Get:4 http://archive.ubuntu.com/ubuntu jammy/main amd64 libgudev-1.0-0 amd64 1:237-2build1 [16.3 kB]\n",
            "Get:5 http://archive.ubuntu.com/ubuntu jammy/main amd64 libwacom-common all 2.2.0-1 [54.3 kB]\n",
            "Get:6 http://archive.ubuntu.com/ubuntu jammy/main amd64 libwacom9 amd64 2.2.0-1 [22.0 kB]\n",
            "Get:7 http://archive.ubuntu.com/ubuntu jammy-updates/main amd64 libinput-bin amd64 1.20.0-1ubuntu0.3 [19.9 kB]\n",
            "Get:8 http://archive.ubuntu.com/ubuntu jammy-updates/main amd64 libinput10 amd64 1.20.0-1ubuntu0.3 [131 kB]\n",
            "Get:9 http://archive.ubuntu.com/ubuntu jammy/universe amd64 libmd4c0 amd64 0.4.8-1 [42.0 kB]\n",
            "Get:10 http://archive.ubuntu.com/ubuntu jammy-updates/universe amd64 libqt5dbus5 amd64 5.15.3+dfsg-2ubuntu0.2 [222 kB]\n",
            "Get:11 http://archive.ubuntu.com/ubuntu jammy-updates/universe amd64 libqt5network5 amd64 5.15.3+dfsg-2ubuntu0.2 [731 kB]\n",
            "Get:12 http://archive.ubuntu.com/ubuntu jammy/main amd64 libxcb-icccm4 amd64 0.4.1-1.1build2 [11.5 kB]\n",
            "Get:13 http://archive.ubuntu.com/ubuntu jammy/main amd64 libxcb-util1 amd64 0.4.0-1build2 [11.4 kB]\n",
            "Get:14 http://archive.ubuntu.com/ubuntu jammy/main amd64 libxcb-image0 amd64 0.4.0-2 [11.5 kB]\n",
            "Get:15 http://archive.ubuntu.com/ubuntu jammy/main amd64 libxcb-keysyms1 amd64 0.4.0-1build3 [8,746 B]\n",
            "Get:16 http://archive.ubuntu.com/ubuntu jammy/main amd64 libxcb-render-util0 amd64 0.3.9-1build3 [10.3 kB]\n",
            "Get:17 http://archive.ubuntu.com/ubuntu jammy/main amd64 libxcb-xinerama0 amd64 1.14-3ubuntu3 [5,414 B]\n",
            "Get:18 http://archive.ubuntu.com/ubuntu jammy/main amd64 libxcb-xinput0 amd64 1.14-3ubuntu3 [34.3 kB]\n",
            "Get:19 http://archive.ubuntu.com/ubuntu jammy/main amd64 libxcb-xkb1 amd64 1.14-3ubuntu3 [32.8 kB]\n",
            "Get:20 http://archive.ubuntu.com/ubuntu jammy/main amd64 libxkbcommon-x11-0 amd64 1.4.0-1 [14.4 kB]\n",
            "Get:21 http://archive.ubuntu.com/ubuntu jammy-updates/universe amd64 libqt5gui5 amd64 5.15.3+dfsg-2ubuntu0.2 [3,722 kB]\n",
            "Get:22 http://archive.ubuntu.com/ubuntu jammy-updates/universe amd64 libqt5widgets5 amd64 5.15.3+dfsg-2ubuntu0.2 [2,561 kB]\n",
            "Get:23 http://archive.ubuntu.com/ubuntu jammy/universe amd64 libqt5svg5 amd64 5.15.3-1 [149 kB]\n",
            "Get:24 http://archive.ubuntu.com/ubuntu jammy/universe amd64 libqt5qml5 amd64 5.15.3+dfsg-1 [1,472 kB]\n",
            "Get:25 http://archive.ubuntu.com/ubuntu jammy/universe amd64 libqt5qmlmodels5 amd64 5.15.3+dfsg-1 [205 kB]\n",
            "Get:26 http://archive.ubuntu.com/ubuntu jammy/universe amd64 libqt5quick5 amd64 5.15.3+dfsg-1 [1,748 kB]\n",
            "Get:27 http://archive.ubuntu.com/ubuntu jammy/universe amd64 qml-module-qtquick-window2 amd64 5.15.3+dfsg-1 [26.3 kB]\n",
            "Get:28 http://archive.ubuntu.com/ubuntu jammy/universe amd64 libqt5qmlworkerscript5 amd64 5.15.3+dfsg-1 [34.4 kB]\n",
            "Get:29 http://archive.ubuntu.com/ubuntu jammy/universe amd64 qml-module-qtquick2 amd64 5.15.3+dfsg-1 [33.7 kB]\n",
            "Get:30 http://archive.ubuntu.com/ubuntu jammy/universe amd64 qml-module-qtgraphicaleffects amd64 5.15.3-1 [74.3 kB]\n",
            "Get:31 http://archive.ubuntu.com/ubuntu jammy/universe amd64 qml-module-qtqml amd64 5.15.3+dfsg-1 [17.2 kB]\n",
            "Get:32 http://archive.ubuntu.com/ubuntu jammy/universe amd64 qml-module-qtqml-models2 amd64 5.15.3+dfsg-1 [18.0 kB]\n",
            "Get:33 http://archive.ubuntu.com/ubuntu jammy/universe amd64 qml-module-qtquick-layouts amd64 5.15.3+dfsg-1 [56.0 kB]\n",
            "Get:34 http://archive.ubuntu.com/ubuntu jammy/universe amd64 qml-module-qtquick-controls amd64 5.15.3-1 [577 kB]\n",
            "Get:35 http://archive.ubuntu.com/ubuntu jammy/main amd64 desktop-file-utils amd64 0.26-1ubuntu3 [55.9 kB]\n",
            "Get:36 http://archive.ubuntu.com/ubuntu jammy/main amd64 fonts-freefont-ttf all 20120503-10build1 [2,388 kB]\n",
            "Get:37 http://archive.ubuntu.com/ubuntu jammy/universe amd64 libportaudio2 amd64 19.6.0-1.1 [65.3 kB]\n",
            "Get:38 http://archive.ubuntu.com/ubuntu jammy/universe amd64 libportmidi0 amd64 1:217-6 [17.8 kB]\n",
            "Get:39 http://archive.ubuntu.com/ubuntu jammy-updates/universe amd64 libqt5sql5 amd64 5.15.3+dfsg-2ubuntu0.2 [123 kB]\n",
            "Get:40 http://archive.ubuntu.com/ubuntu jammy/universe amd64 libqt5help5 amd64 5.15.3-1 [162 kB]\n",
            "Get:41 http://archive.ubuntu.com/ubuntu jammy-updates/universe amd64 libqt5printsupport5 amd64 5.15.3+dfsg-2ubuntu0.2 [214 kB]\n",
            "Get:42 http://archive.ubuntu.com/ubuntu jammy-updates/universe amd64 libqt5sql5-sqlite amd64 5.15.3+dfsg-2ubuntu0.2 [53.0 kB]\n",
            "Get:43 http://archive.ubuntu.com/ubuntu jammy-updates/universe amd64 libqt5xml5 amd64 5.15.3+dfsg-2ubuntu0.2 [124 kB]\n",
            "Get:44 http://archive.ubuntu.com/ubuntu jammy/universe amd64 libqt5xmlpatterns5 amd64 5.15.3-1 [901 kB]\n",
            "Get:45 http://archive.ubuntu.com/ubuntu jammy/main amd64 libwacom-bin amd64 2.2.0-1 [13.6 kB]\n",
            "Get:46 http://archive.ubuntu.com/ubuntu jammy/universe amd64 qml-module-qt-labs-folderlistmodel amd64 5.15.3+dfsg-1 [36.1 kB]\n",
            "Get:47 http://archive.ubuntu.com/ubuntu jammy/universe amd64 qml-module-qt-labs-settings amd64 5.15.3+dfsg-1 [26.5 kB]\n",
            "Get:48 http://archive.ubuntu.com/ubuntu jammy/universe amd64 qml-module-qtquick-privatewidgets amd64 5.15.3-1 [49.8 kB]\n",
            "Get:49 http://archive.ubuntu.com/ubuntu jammy/universe amd64 qml-module-qtquick-dialogs amd64 5.15.3-1 [132 kB]\n",
            "Get:50 http://archive.ubuntu.com/ubuntu jammy/universe amd64 musescore-general-soundfont-small all 0.2.1-1 [34.1 MB]\n",
            "Get:51 http://archive.ubuntu.com/ubuntu jammy/universe amd64 musescore-common all 2.3.2+dfsg4-15 [3,332 kB]\n",
            "Get:52 http://archive.ubuntu.com/ubuntu jammy/universe amd64 musescore amd64 2.3.2+dfsg4-15 [5,195 kB]\n",
            "Get:53 http://archive.ubuntu.com/ubuntu jammy-updates/universe amd64 qt5-gtk-platformtheme amd64 5.15.3+dfsg-2ubuntu0.2 [130 kB]\n",
            "Get:54 http://archive.ubuntu.com/ubuntu jammy/universe amd64 qttranslations5-l10n all 5.15.3-1 [1,983 kB]\n",
            "Fetched 63.2 MB in 1s (51.3 MB/s)\n",
            "Extracting templates from packages: 100%\n",
            "Selecting previously unselected package libqt5core5a:amd64.\n",
            "(Reading database ... 119637 files and directories currently installed.)\n",
            "Preparing to unpack .../00-libqt5core5a_5.15.3+dfsg-2ubuntu0.2_amd64.deb ...\n",
            "Unpacking libqt5core5a:amd64 (5.15.3+dfsg-2ubuntu0.2) ...\n",
            "Selecting previously unselected package libevdev2:amd64.\n",
            "Preparing to unpack .../01-libevdev2_1.12.1+dfsg-1_amd64.deb ...\n",
            "Unpacking libevdev2:amd64 (1.12.1+dfsg-1) ...\n",
            "Selecting previously unselected package libmtdev1:amd64.\n",
            "Preparing to unpack .../02-libmtdev1_1.1.6-1build4_amd64.deb ...\n",
            "Unpacking libmtdev1:amd64 (1.1.6-1build4) ...\n",
            "Selecting previously unselected package libgudev-1.0-0:amd64.\n",
            "Preparing to unpack .../03-libgudev-1.0-0_1%3a237-2build1_amd64.deb ...\n",
            "Unpacking libgudev-1.0-0:amd64 (1:237-2build1) ...\n",
            "Selecting previously unselected package libwacom-common.\n",
            "Preparing to unpack .../04-libwacom-common_2.2.0-1_all.deb ...\n",
            "Unpacking libwacom-common (2.2.0-1) ...\n",
            "Selecting previously unselected package libwacom9:amd64.\n",
            "Preparing to unpack .../05-libwacom9_2.2.0-1_amd64.deb ...\n",
            "Unpacking libwacom9:amd64 (2.2.0-1) ...\n",
            "Selecting previously unselected package libinput-bin.\n",
            "Preparing to unpack .../06-libinput-bin_1.20.0-1ubuntu0.3_amd64.deb ...\n",
            "Unpacking libinput-bin (1.20.0-1ubuntu0.3) ...\n",
            "Selecting previously unselected package libinput10:amd64.\n",
            "Preparing to unpack .../07-libinput10_1.20.0-1ubuntu0.3_amd64.deb ...\n",
            "Unpacking libinput10:amd64 (1.20.0-1ubuntu0.3) ...\n",
            "Selecting previously unselected package libmd4c0:amd64.\n",
            "Preparing to unpack .../08-libmd4c0_0.4.8-1_amd64.deb ...\n",
            "Unpacking libmd4c0:amd64 (0.4.8-1) ...\n",
            "Selecting previously unselected package libqt5dbus5:amd64.\n",
            "Preparing to unpack .../09-libqt5dbus5_5.15.3+dfsg-2ubuntu0.2_amd64.deb ...\n",
            "Unpacking libqt5dbus5:amd64 (5.15.3+dfsg-2ubuntu0.2) ...\n",
            "Selecting previously unselected package libqt5network5:amd64.\n",
            "Preparing to unpack .../10-libqt5network5_5.15.3+dfsg-2ubuntu0.2_amd64.deb ...\n",
            "Unpacking libqt5network5:amd64 (5.15.3+dfsg-2ubuntu0.2) ...\n",
            "Selecting previously unselected package libxcb-icccm4:amd64.\n",
            "Preparing to unpack .../11-libxcb-icccm4_0.4.1-1.1build2_amd64.deb ...\n",
            "Unpacking libxcb-icccm4:amd64 (0.4.1-1.1build2) ...\n",
            "Selecting previously unselected package libxcb-util1:amd64.\n",
            "Preparing to unpack .../12-libxcb-util1_0.4.0-1build2_amd64.deb ...\n",
            "Unpacking libxcb-util1:amd64 (0.4.0-1build2) ...\n",
            "Selecting previously unselected package libxcb-image0:amd64.\n",
            "Preparing to unpack .../13-libxcb-image0_0.4.0-2_amd64.deb ...\n",
            "Unpacking libxcb-image0:amd64 (0.4.0-2) ...\n",
            "Selecting previously unselected package libxcb-keysyms1:amd64.\n",
            "Preparing to unpack .../14-libxcb-keysyms1_0.4.0-1build3_amd64.deb ...\n",
            "Unpacking libxcb-keysyms1:amd64 (0.4.0-1build3) ...\n",
            "Selecting previously unselected package libxcb-render-util0:amd64.\n",
            "Preparing to unpack .../15-libxcb-render-util0_0.3.9-1build3_amd64.deb ...\n",
            "Unpacking libxcb-render-util0:amd64 (0.3.9-1build3) ...\n",
            "Selecting previously unselected package libxcb-xinerama0:amd64.\n",
            "Preparing to unpack .../16-libxcb-xinerama0_1.14-3ubuntu3_amd64.deb ...\n",
            "Unpacking libxcb-xinerama0:amd64 (1.14-3ubuntu3) ...\n",
            "Selecting previously unselected package libxcb-xinput0:amd64.\n",
            "Preparing to unpack .../17-libxcb-xinput0_1.14-3ubuntu3_amd64.deb ...\n",
            "Unpacking libxcb-xinput0:amd64 (1.14-3ubuntu3) ...\n",
            "Selecting previously unselected package libxcb-xkb1:amd64.\n",
            "Preparing to unpack .../18-libxcb-xkb1_1.14-3ubuntu3_amd64.deb ...\n",
            "Unpacking libxcb-xkb1:amd64 (1.14-3ubuntu3) ...\n",
            "Selecting previously unselected package libxkbcommon-x11-0:amd64.\n",
            "Preparing to unpack .../19-libxkbcommon-x11-0_1.4.0-1_amd64.deb ...\n",
            "Unpacking libxkbcommon-x11-0:amd64 (1.4.0-1) ...\n",
            "Selecting previously unselected package libqt5gui5:amd64.\n",
            "Preparing to unpack .../20-libqt5gui5_5.15.3+dfsg-2ubuntu0.2_amd64.deb ...\n",
            "Unpacking libqt5gui5:amd64 (5.15.3+dfsg-2ubuntu0.2) ...\n",
            "Selecting previously unselected package libqt5widgets5:amd64.\n",
            "Preparing to unpack .../21-libqt5widgets5_5.15.3+dfsg-2ubuntu0.2_amd64.deb ...\n",
            "Unpacking libqt5widgets5:amd64 (5.15.3+dfsg-2ubuntu0.2) ...\n",
            "Selecting previously unselected package libqt5svg5:amd64.\n",
            "Preparing to unpack .../22-libqt5svg5_5.15.3-1_amd64.deb ...\n",
            "Unpacking libqt5svg5:amd64 (5.15.3-1) ...\n",
            "Selecting previously unselected package libqt5qml5:amd64.\n",
            "Preparing to unpack .../23-libqt5qml5_5.15.3+dfsg-1_amd64.deb ...\n",
            "Unpacking libqt5qml5:amd64 (5.15.3+dfsg-1) ...\n",
            "Selecting previously unselected package libqt5qmlmodels5:amd64.\n",
            "Preparing to unpack .../24-libqt5qmlmodels5_5.15.3+dfsg-1_amd64.deb ...\n",
            "Unpacking libqt5qmlmodels5:amd64 (5.15.3+dfsg-1) ...\n",
            "Selecting previously unselected package libqt5quick5:amd64.\n",
            "Preparing to unpack .../25-libqt5quick5_5.15.3+dfsg-1_amd64.deb ...\n",
            "Unpacking libqt5quick5:amd64 (5.15.3+dfsg-1) ...\n",
            "Selecting previously unselected package qml-module-qtquick-window2:amd64.\n",
            "Preparing to unpack .../26-qml-module-qtquick-window2_5.15.3+dfsg-1_amd64.deb ...\n",
            "Unpacking qml-module-qtquick-window2:amd64 (5.15.3+dfsg-1) ...\n",
            "Selecting previously unselected package libqt5qmlworkerscript5:amd64.\n",
            "Preparing to unpack .../27-libqt5qmlworkerscript5_5.15.3+dfsg-1_amd64.deb ...\n",
            "Unpacking libqt5qmlworkerscript5:amd64 (5.15.3+dfsg-1) ...\n",
            "Selecting previously unselected package qml-module-qtquick2:amd64.\n",
            "Preparing to unpack .../28-qml-module-qtquick2_5.15.3+dfsg-1_amd64.deb ...\n",
            "Unpacking qml-module-qtquick2:amd64 (5.15.3+dfsg-1) ...\n",
            "Selecting previously unselected package qml-module-qtgraphicaleffects:amd64.\n",
            "Preparing to unpack .../29-qml-module-qtgraphicaleffects_5.15.3-1_amd64.deb ...\n",
            "Unpacking qml-module-qtgraphicaleffects:amd64 (5.15.3-1) ...\n",
            "Selecting previously unselected package qml-module-qtqml:amd64.\n",
            "Preparing to unpack .../30-qml-module-qtqml_5.15.3+dfsg-1_amd64.deb ...\n",
            "Unpacking qml-module-qtqml:amd64 (5.15.3+dfsg-1) ...\n",
            "Selecting previously unselected package qml-module-qtqml-models2:amd64.\n",
            "Preparing to unpack .../31-qml-module-qtqml-models2_5.15.3+dfsg-1_amd64.deb ...\n",
            "Unpacking qml-module-qtqml-models2:amd64 (5.15.3+dfsg-1) ...\n",
            "Selecting previously unselected package qml-module-qtquick-layouts:amd64.\n",
            "Preparing to unpack .../32-qml-module-qtquick-layouts_5.15.3+dfsg-1_amd64.deb ...\n",
            "Unpacking qml-module-qtquick-layouts:amd64 (5.15.3+dfsg-1) ...\n",
            "Selecting previously unselected package qml-module-qtquick-controls:amd64.\n",
            "Preparing to unpack .../33-qml-module-qtquick-controls_5.15.3-1_amd64.deb ...\n",
            "Unpacking qml-module-qtquick-controls:amd64 (5.15.3-1) ...\n",
            "Selecting previously unselected package desktop-file-utils.\n",
            "Preparing to unpack .../34-desktop-file-utils_0.26-1ubuntu3_amd64.deb ...\n",
            "Unpacking desktop-file-utils (0.26-1ubuntu3) ...\n",
            "Selecting previously unselected package fonts-freefont-ttf.\n",
            "Preparing to unpack .../35-fonts-freefont-ttf_20120503-10build1_all.deb ...\n",
            "Unpacking fonts-freefont-ttf (20120503-10build1) ...\n",
            "Selecting previously unselected package libportaudio2:amd64.\n",
            "Preparing to unpack .../36-libportaudio2_19.6.0-1.1_amd64.deb ...\n",
            "Unpacking libportaudio2:amd64 (19.6.0-1.1) ...\n",
            "Selecting previously unselected package libportmidi0:amd64.\n",
            "Preparing to unpack .../37-libportmidi0_1%3a217-6_amd64.deb ...\n",
            "Unpacking libportmidi0:amd64 (1:217-6) ...\n",
            "Selecting previously unselected package libqt5sql5:amd64.\n",
            "Preparing to unpack .../38-libqt5sql5_5.15.3+dfsg-2ubuntu0.2_amd64.deb ...\n",
            "Unpacking libqt5sql5:amd64 (5.15.3+dfsg-2ubuntu0.2) ...\n",
            "Selecting previously unselected package libqt5help5:amd64.\n",
            "Preparing to unpack .../39-libqt5help5_5.15.3-1_amd64.deb ...\n",
            "Unpacking libqt5help5:amd64 (5.15.3-1) ...\n",
            "Selecting previously unselected package libqt5printsupport5:amd64.\n",
            "Preparing to unpack .../40-libqt5printsupport5_5.15.3+dfsg-2ubuntu0.2_amd64.deb ...\n",
            "Unpacking libqt5printsupport5:amd64 (5.15.3+dfsg-2ubuntu0.2) ...\n",
            "Selecting previously unselected package libqt5sql5-sqlite:amd64.\n",
            "Preparing to unpack .../41-libqt5sql5-sqlite_5.15.3+dfsg-2ubuntu0.2_amd64.deb ...\n",
            "Unpacking libqt5sql5-sqlite:amd64 (5.15.3+dfsg-2ubuntu0.2) ...\n",
            "Selecting previously unselected package libqt5xml5:amd64.\n",
            "Preparing to unpack .../42-libqt5xml5_5.15.3+dfsg-2ubuntu0.2_amd64.deb ...\n",
            "Unpacking libqt5xml5:amd64 (5.15.3+dfsg-2ubuntu0.2) ...\n",
            "Selecting previously unselected package libqt5xmlpatterns5:amd64.\n",
            "Preparing to unpack .../43-libqt5xmlpatterns5_5.15.3-1_amd64.deb ...\n",
            "Unpacking libqt5xmlpatterns5:amd64 (5.15.3-1) ...\n",
            "Selecting previously unselected package libwacom-bin.\n",
            "Preparing to unpack .../44-libwacom-bin_2.2.0-1_amd64.deb ...\n",
            "Unpacking libwacom-bin (2.2.0-1) ...\n",
            "Selecting previously unselected package qml-module-qt-labs-folderlistmodel:amd64.\n",
            "Preparing to unpack .../45-qml-module-qt-labs-folderlistmodel_5.15.3+dfsg-1_amd64.deb ...\n",
            "Unpacking qml-module-qt-labs-folderlistmodel:amd64 (5.15.3+dfsg-1) ...\n",
            "Selecting previously unselected package qml-module-qt-labs-settings:amd64.\n",
            "Preparing to unpack .../46-qml-module-qt-labs-settings_5.15.3+dfsg-1_amd64.deb ...\n",
            "Unpacking qml-module-qt-labs-settings:amd64 (5.15.3+dfsg-1) ...\n",
            "Selecting previously unselected package qml-module-qtquick-privatewidgets:amd64.\n",
            "Preparing to unpack .../47-qml-module-qtquick-privatewidgets_5.15.3-1_amd64.deb ...\n",
            "Unpacking qml-module-qtquick-privatewidgets:amd64 (5.15.3-1) ...\n",
            "Selecting previously unselected package qml-module-qtquick-dialogs:amd64.\n",
            "Preparing to unpack .../48-qml-module-qtquick-dialogs_5.15.3-1_amd64.deb ...\n",
            "Unpacking qml-module-qtquick-dialogs:amd64 (5.15.3-1) ...\n",
            "Selecting previously unselected package musescore-general-soundfont-small.\n",
            "Preparing to unpack .../49-musescore-general-soundfont-small_0.2.1-1_all.deb ...\n",
            "Unpacking musescore-general-soundfont-small (0.2.1-1) ...\n",
            "Selecting previously unselected package musescore-common.\n",
            "Preparing to unpack .../50-musescore-common_2.3.2+dfsg4-15_all.deb ...\n",
            "Unpacking musescore-common (2.3.2+dfsg4-15) ...\n",
            "Selecting previously unselected package musescore.\n",
            "Preparing to unpack .../51-musescore_2.3.2+dfsg4-15_amd64.deb ...\n",
            "Unpacking musescore (2.3.2+dfsg4-15) ...\n",
            "Selecting previously unselected package qt5-gtk-platformtheme:amd64.\n",
            "Preparing to unpack .../52-qt5-gtk-platformtheme_5.15.3+dfsg-2ubuntu0.2_amd64.deb ...\n",
            "Unpacking qt5-gtk-platformtheme:amd64 (5.15.3+dfsg-2ubuntu0.2) ...\n",
            "Selecting previously unselected package qttranslations5-l10n.\n",
            "Preparing to unpack .../53-qttranslations5-l10n_5.15.3-1_all.deb ...\n",
            "Unpacking qttranslations5-l10n (5.15.3-1) ...\n",
            "Setting up libportaudio2:amd64 (19.6.0-1.1) ...\n",
            "Setting up desktop-file-utils (0.26-1ubuntu3) ...\n",
            "Setting up libxcb-xinput0:amd64 (1.14-3ubuntu3) ...\n",
            "Setting up libxcb-keysyms1:amd64 (0.4.0-1build3) ...\n",
            "Setting up fonts-freefont-ttf (20120503-10build1) ...\n",
            "Setting up libxcb-render-util0:amd64 (0.3.9-1build3) ...\n",
            "Setting up libxcb-icccm4:amd64 (0.4.1-1.1build2) ...\n",
            "Setting up musescore-general-soundfont-small (0.2.1-1) ...\n",
            "update-alternatives: using /usr/share/sounds/sf3/MuseScore_General_Lite.sf3 to provide /usr/share/sounds/sf3/default-GM.sf3 (default-GM.sf3) in auto mode\n",
            "update-alternatives: using /usr/share/sounds/sf3/MuseScore_General_Lite.sf3 to provide /usr/share/sounds/sf3/MuseScore_General.sf3 (MuseScore_General.sf3) in auto mode\n",
            "Setting up libxcb-util1:amd64 (0.4.0-1build2) ...\n",
            "Setting up libxcb-xkb1:amd64 (1.14-3ubuntu3) ...\n",
            "Setting up libxcb-image0:amd64 (0.4.0-2) ...\n",
            "Setting up musescore-common (2.3.2+dfsg4-15) ...\n",
            "Setting up libxcb-xinerama0:amd64 (1.14-3ubuntu3) ...\n",
            "Setting up qttranslations5-l10n (5.15.3-1) ...\n",
            "Setting up libportmidi0:amd64 (1:217-6) ...\n",
            "Setting up libxkbcommon-x11-0:amd64 (1.4.0-1) ...\n",
            "Setting up libqt5core5a:amd64 (5.15.3+dfsg-2ubuntu0.2) ...\n",
            "Setting up libmtdev1:amd64 (1.1.6-1build4) ...\n",
            "Setting up libqt5dbus5:amd64 (5.15.3+dfsg-2ubuntu0.2) ...\n",
            "Setting up libmd4c0:amd64 (0.4.8-1) ...\n",
            "Setting up libevdev2:amd64 (1.12.1+dfsg-1) ...\n",
            "Setting up libgudev-1.0-0:amd64 (1:237-2build1) ...\n",
            "Setting up libwacom-common (2.2.0-1) ...\n",
            "Setting up libwacom9:amd64 (2.2.0-1) ...\n",
            "Setting up libqt5network5:amd64 (5.15.3+dfsg-2ubuntu0.2) ...\n",
            "Setting up libinput-bin (1.20.0-1ubuntu0.3) ...\n",
            "Setting up libqt5sql5:amd64 (5.15.3+dfsg-2ubuntu0.2) ...\n",
            "Setting up libqt5xml5:amd64 (5.15.3+dfsg-2ubuntu0.2) ...\n",
            "Setting up libqt5qml5:amd64 (5.15.3+dfsg-1) ...\n",
            "Setting up libwacom-bin (2.2.0-1) ...\n",
            "Setting up libinput10:amd64 (1.20.0-1ubuntu0.3) ...\n",
            "Setting up libqt5qmlmodels5:amd64 (5.15.3+dfsg-1) ...\n",
            "Setting up libqt5sql5-sqlite:amd64 (5.15.3+dfsg-2ubuntu0.2) ...\n",
            "Setting up qml-module-qtqml:amd64 (5.15.3+dfsg-1) ...\n",
            "Setting up libqt5xmlpatterns5:amd64 (5.15.3-1) ...\n",
            "Setting up libqt5gui5:amd64 (5.15.3+dfsg-2ubuntu0.2) ...\n",
            "Setting up libqt5widgets5:amd64 (5.15.3+dfsg-2ubuntu0.2) ...\n",
            "Setting up libqt5help5:amd64 (5.15.3-1) ...\n",
            "Setting up qt5-gtk-platformtheme:amd64 (5.15.3+dfsg-2ubuntu0.2) ...\n",
            "Setting up qml-module-qt-labs-folderlistmodel:amd64 (5.15.3+dfsg-1) ...\n",
            "Setting up libqt5qmlworkerscript5:amd64 (5.15.3+dfsg-1) ...\n",
            "Setting up qml-module-qt-labs-settings:amd64 (5.15.3+dfsg-1) ...\n",
            "Setting up libqt5printsupport5:amd64 (5.15.3+dfsg-2ubuntu0.2) ...\n",
            "Setting up qml-module-qtqml-models2:amd64 (5.15.3+dfsg-1) ...\n",
            "Setting up libqt5quick5:amd64 (5.15.3+dfsg-1) ...\n",
            "Setting up libqt5svg5:amd64 (5.15.3-1) ...\n",
            "Setting up qml-module-qtquick-window2:amd64 (5.15.3+dfsg-1) ...\n",
            "Setting up qml-module-qtquick-layouts:amd64 (5.15.3+dfsg-1) ...\n",
            "Setting up qml-module-qtquick2:amd64 (5.15.3+dfsg-1) ...\n",
            "Setting up qml-module-qtquick-privatewidgets:amd64 (5.15.3-1) ...\n",
            "Setting up qml-module-qtgraphicaleffects:amd64 (5.15.3-1) ...\n",
            "Setting up qml-module-qtquick-dialogs:amd64 (5.15.3-1) ...\n",
            "Setting up qml-module-qtquick-controls:amd64 (5.15.3-1) ...\n",
            "Setting up musescore (2.3.2+dfsg4-15) ...\n",
            "Processing triggers for hicolor-icon-theme (0.17-2) ...\n",
            "Processing triggers for libc-bin (2.35-0ubuntu3.8) ...\n",
            "Processing triggers for man-db (2.10.2-1) ...\n",
            "Processing triggers for shared-mime-info (2.1-2) ...\n",
            "Processing triggers for fontconfig (2.13.1-4.2ubuntu5) ...\n",
            "Reading package lists... Done\n",
            "Building dependency tree... Done\n",
            "Reading state information... Done\n",
            "E: Unable to locate package music21\n",
            "Reading package lists... Done\n",
            "Building dependency tree... Done\n",
            "Reading state information... Done\n",
            "The following additional packages will be installed:\n",
            "  fluid-soundfont-gm libfluidsynth3 libinstpatch-1.0-2 qsynth\n",
            "Suggested packages:\n",
            "  fluid-soundfont-gs jackd\n",
            "The following NEW packages will be installed:\n",
            "  fluid-soundfont-gm fluidsynth libfluidsynth3 libinstpatch-1.0-2 qsynth\n",
            "0 upgraded, 5 newly installed, 0 to remove and 0 not upgraded.\n",
            "Need to get 130 MB of archives.\n",
            "After this operation, 151 MB of additional disk space will be used.\n",
            "Get:1 http://archive.ubuntu.com/ubuntu jammy/universe amd64 fluid-soundfont-gm all 3.1-5.3 [130 MB]\n",
            "Get:2 http://archive.ubuntu.com/ubuntu jammy/universe amd64 libinstpatch-1.0-2 amd64 1.1.6-1 [240 kB]\n",
            "Get:3 http://archive.ubuntu.com/ubuntu jammy/universe amd64 libfluidsynth3 amd64 2.2.5-1 [246 kB]\n",
            "Get:4 http://archive.ubuntu.com/ubuntu jammy/universe amd64 fluidsynth amd64 2.2.5-1 [27.4 kB]\n",
            "Get:5 http://archive.ubuntu.com/ubuntu jammy/universe amd64 qsynth amd64 0.9.6-1 [305 kB]\n",
            "Fetched 130 MB in 2s (78.7 MB/s)\n",
            "Selecting previously unselected package fluid-soundfont-gm.\n",
            "(Reading database ... 121648 files and directories currently installed.)\n",
            "Preparing to unpack .../fluid-soundfont-gm_3.1-5.3_all.deb ...\n",
            "Unpacking fluid-soundfont-gm (3.1-5.3) ...\n",
            "Selecting previously unselected package libinstpatch-1.0-2:amd64.\n",
            "Preparing to unpack .../libinstpatch-1.0-2_1.1.6-1_amd64.deb ...\n",
            "Unpacking libinstpatch-1.0-2:amd64 (1.1.6-1) ...\n",
            "Selecting previously unselected package libfluidsynth3:amd64.\n",
            "Preparing to unpack .../libfluidsynth3_2.2.5-1_amd64.deb ...\n",
            "Unpacking libfluidsynth3:amd64 (2.2.5-1) ...\n",
            "Selecting previously unselected package fluidsynth.\n",
            "Preparing to unpack .../fluidsynth_2.2.5-1_amd64.deb ...\n",
            "Unpacking fluidsynth (2.2.5-1) ...\n",
            "Selecting previously unselected package qsynth.\n",
            "Preparing to unpack .../qsynth_0.9.6-1_amd64.deb ...\n",
            "Unpacking qsynth (0.9.6-1) ...\n",
            "Setting up fluid-soundfont-gm (3.1-5.3) ...\n",
            "update-alternatives: using /usr/share/sounds/sf2/FluidR3_GM.sf2 to provide /usr/share/sounds/sf2/default-GM.sf2 (default-GM.sf2) in auto mode\n",
            "Setting up libinstpatch-1.0-2:amd64 (1.1.6-1) ...\n",
            "Setting up libfluidsynth3:amd64 (2.2.5-1) ...\n",
            "Setting up qsynth (0.9.6-1) ...\n",
            "Setting up fluidsynth (2.2.5-1) ...\n",
            "Created symlink /etc/systemd/user/default.target.wants/fluidsynth.service → /usr/lib/systemd/user/fluidsynth.service.\n",
            "Processing triggers for hicolor-icon-theme (0.17-2) ...\n",
            "Processing triggers for libc-bin (2.35-0ubuntu3.8) ...\n",
            "Processing triggers for man-db (2.10.2-1) ...\n",
            "Processing triggers for desktop-file-utils (0.26-1ubuntu3) ...\n",
            "Collecting music21\n",
            "  Downloading music21-9.3.0-py3-none-any.whl.metadata (5.0 kB)\n",
            "Collecting chardet (from music21)\n",
            "  Downloading chardet-5.2.0-py3-none-any.whl.metadata (3.4 kB)\n",
            "Requirement already satisfied: joblib in /usr/local/lib/python3.10/dist-packages (from music21) (1.4.2)\n",
            "Collecting jsonpickle (from music21)\n",
            "  Downloading jsonpickle-4.0.0-py3-none-any.whl.metadata (8.2 kB)\n",
            "Requirement already satisfied: matplotlib in /usr/local/lib/python3.10/dist-packages (from music21) (3.8.0)\n",
            "Requirement already satisfied: more-itertools in /usr/lib/python3/dist-packages (from music21) (8.10.0)\n",
            "Requirement already satisfied: numpy in /usr/local/lib/python3.10/dist-packages (from music21) (1.26.4)\n",
            "Requirement already satisfied: requests in /usr/local/lib/python3.10/dist-packages (from music21) (2.32.3)\n",
            "Collecting webcolors>=1.5 (from music21)\n",
            "  Downloading webcolors-24.11.1-py3-none-any.whl.metadata (2.2 kB)\n",
            "Requirement already satisfied: contourpy>=1.0.1 in /usr/local/lib/python3.10/dist-packages (from matplotlib->music21) (1.3.1)\n",
            "Requirement already satisfied: cycler>=0.10 in /usr/local/lib/python3.10/dist-packages (from matplotlib->music21) (0.12.1)\n",
            "Requirement already satisfied: fonttools>=4.22.0 in /usr/local/lib/python3.10/dist-packages (from matplotlib->music21) (4.55.1)\n",
            "Requirement already satisfied: kiwisolver>=1.0.1 in /usr/local/lib/python3.10/dist-packages (from matplotlib->music21) (1.4.7)\n",
            "Requirement already satisfied: packaging>=20.0 in /usr/local/lib/python3.10/dist-packages (from matplotlib->music21) (24.2)\n",
            "Requirement already satisfied: pillow>=6.2.0 in /usr/local/lib/python3.10/dist-packages (from matplotlib->music21) (11.0.0)\n",
            "Requirement already satisfied: pyparsing>=2.3.1 in /usr/local/lib/python3.10/dist-packages (from matplotlib->music21) (3.2.0)\n",
            "Requirement already satisfied: python-dateutil>=2.7 in /usr/local/lib/python3.10/dist-packages (from matplotlib->music21) (2.9.0.post0)\n",
            "Requirement already satisfied: charset-normalizer<4,>=2 in /usr/local/lib/python3.10/dist-packages (from requests->music21) (3.4.0)\n",
            "Requirement already satisfied: idna<4,>=2.5 in /usr/local/lib/python3.10/dist-packages (from requests->music21) (3.10)\n",
            "Requirement already satisfied: urllib3<3,>=1.21.1 in /usr/local/lib/python3.10/dist-packages (from requests->music21) (2.2.3)\n",
            "Requirement already satisfied: certifi>=2017.4.17 in /usr/local/lib/python3.10/dist-packages (from requests->music21) (2024.8.30)\n",
            "Requirement already satisfied: six>=1.5 in /usr/local/lib/python3.10/dist-packages (from python-dateutil>=2.7->matplotlib->music21) (1.16.0)\n",
            "Downloading music21-9.3.0-py3-none-any.whl (22.9 MB)\n",
            "\u001b[2K   \u001b[90m━━━━━━━━━━━━━━━━━━━━━━━━━━━━━━━━━━━━━━━━\u001b[0m \u001b[32m22.9/22.9 MB\u001b[0m \u001b[31m47.2 MB/s\u001b[0m eta \u001b[36m0:00:00\u001b[0m\n",
            "\u001b[?25hDownloading webcolors-24.11.1-py3-none-any.whl (14 kB)\n",
            "Downloading chardet-5.2.0-py3-none-any.whl (199 kB)\n",
            "\u001b[2K   \u001b[90m━━━━━━━━━━━━━━━━━━━━━━━━━━━━━━━━━━━━━━━━\u001b[0m \u001b[32m199.4/199.4 kB\u001b[0m \u001b[31m11.1 MB/s\u001b[0m eta \u001b[36m0:00:00\u001b[0m\n",
            "\u001b[?25hDownloading jsonpickle-4.0.0-py3-none-any.whl (46 kB)\n",
            "\u001b[2K   \u001b[90m━━━━━━━━━━━━━━━━━━━━━━━━━━━━━━━━━━━━━━━━\u001b[0m \u001b[32m46.2/46.2 kB\u001b[0m \u001b[31m2.3 MB/s\u001b[0m eta \u001b[36m0:00:00\u001b[0m\n",
            "\u001b[?25hInstalling collected packages: webcolors, jsonpickle, chardet, music21\n",
            "Successfully installed chardet-5.2.0 jsonpickle-4.0.0 music21-9.3.0 webcolors-24.11.1\n"
          ]
        }
      ]
    },
    {
      "cell_type": "markdown",
      "source": [
        "## Move music to proper folder"
      ],
      "metadata": {
        "id": "shU87JNHR4rl"
      }
    },
    {
      "cell_type": "code",
      "source": [
        "!mv *.mid data"
      ],
      "metadata": {
        "id": "L1PZ1J-cR7rt"
      },
      "execution_count": 3,
      "outputs": []
    },
    {
      "cell_type": "markdown",
      "source": [
        "## Move transformer_utils to proper folder"
      ],
      "metadata": {
        "id": "-E31xOCEWWSM"
      }
    },
    {
      "cell_type": "code",
      "source": [
        "!mkdir python\n",
        "!mv transformer_utils.py python"
      ],
      "metadata": {
        "id": "ZaZWyPTCWa1Y"
      },
      "execution_count": 4,
      "outputs": []
    },
    {
      "cell_type": "code",
      "source": [
        "import sys\n",
        "sys.path.append('/content/python')"
      ],
      "metadata": {
        "id": "5gHQa4sNalaz"
      },
      "execution_count": 5,
      "outputs": []
    },
    {
      "cell_type": "markdown",
      "source": [
        "# Python"
      ],
      "metadata": {
        "id": "nUFFjStcSDgI"
      }
    },
    {
      "cell_type": "markdown",
      "source": [
        "## Imports"
      ],
      "metadata": {
        "id": "bzF8qOUaSuo7"
      }
    },
    {
      "cell_type": "code",
      "source": [
        "import os\n",
        "import glob\n",
        "import numpy as np\n",
        "import time\n",
        "import matplotlib.pyplot as plt\n",
        "\n",
        "import tensorflow as tf\n",
        "from tensorflow.keras import layers, models, losses, callbacks\n",
        "\n",
        "import music21\n",
        "\n",
        "from transformer_utils import (\n",
        "    parse_midi_files,\n",
        "    load_parsed_files,\n",
        "    get_midi_note,\n",
        "    SinePositionEncoding,\n",
        ")"
      ],
      "metadata": {
        "id": "xvOHkLvXSC4E"
      },
      "execution_count": 6,
      "outputs": []
    },
    {
      "cell_type": "markdown",
      "source": [
        "## Params"
      ],
      "metadata": {
        "id": "7wFzv8mBSya6"
      }
    },
    {
      "cell_type": "code",
      "source": [
        "PARSE_MIDI_FILES = True\n",
        "PARSED_DATA_PATH = \"/content/data/\"\n",
        "DATASET_REPETITIONS = 1\n",
        "\n",
        "SEQ_LEN = 50\n",
        "EMBEDDING_DIM = 256\n",
        "KEY_DIM = 256\n",
        "N_HEADS = 5\n",
        "DROPOUT_RATE = 0.3\n",
        "FEED_FORWARD_DIM = 256\n",
        "LOAD_MODEL = False\n",
        "\n",
        "# optimization\n",
        "EPOCHS = 15\n",
        "BATCH_SIZE = 256\n",
        "\n",
        "GENERATE_LEN = 50"
      ],
      "metadata": {
        "id": "BT-lSz5MS2Zl"
      },
      "execution_count": 7,
      "outputs": []
    },
    {
      "cell_type": "markdown",
      "source": [
        "##Preparing Data"
      ],
      "metadata": {
        "id": "K3Qgh4zOTOIj"
      }
    },
    {
      "cell_type": "code",
      "source": [
        "# Load the data\n",
        "file_list = glob.glob(\"/content/data/*.mid\")\n",
        "print(f\"Found {len(file_list)} midi files\")\n",
        "\n",
        "parser = music21.converter\n",
        "\n",
        "example_score = (\n",
        "    music21.converter.parse(file_list[1]).splitAtQuarterLength(12)[0].chordify()\n",
        ")\n",
        "\n",
        "example_score.show(\"text\")\n",
        "\n"
      ],
      "metadata": {
        "id": "RtPfUmUJTS8S",
        "colab": {
          "base_uri": "https://localhost:8080/"
        },
        "outputId": "e5668d7e-cd1c-4ea5-bbe0-a56a51947b0c"
      },
      "execution_count": 8,
      "outputs": [
        {
          "output_type": "stream",
          "name": "stdout",
          "text": [
            "Found 36 midi files\n",
            "{0.0} <music21.metadata.Metadata object at 0x7a5efcd5bd90>\n",
            "{0.0} <music21.stream.Measure 1 offset=0.0>\n",
            "    {0.0} <music21.instrument.Violoncello 'Solo Cello: Solo Cello'>\n",
            "    {0.0} <music21.instrument.Violoncello 'Violoncello'>\n",
            "    {0.0} <music21.clef.BassClef>\n",
            "    {0.0} <music21.tempo.MetronomeMark Quarter=250>\n",
            "    {0.0} <music21.key.Key of D major>\n",
            "    {0.0} <music21.meter.TimeSignature 3/4>\n",
            "    {0.0} <music21.note.Rest 2.5ql>\n",
            "    {2.5} <music21.tempo.MetronomeMark animato Quarter=120>\n",
            "    {2.5} <music21.chord.Chord D4>\n",
            "{3.0} <music21.stream.Measure 2 offset=3.0>\n",
            "    {0.0} <music21.chord.Chord D4>\n",
            "    {0.5} <music21.chord.Chord D3>\n",
            "    {0.75} <music21.chord.Chord E3>\n",
            "    {1.0} <music21.chord.Chord F#3>\n",
            "    {1.5} <music21.chord.Chord D3>\n",
            "    {2.0} <music21.chord.Chord A3>\n",
            "    {2.5} <music21.chord.Chord F#3>\n",
            "{6.0} <music21.stream.Measure 3 offset=6.0>\n",
            "    {0.0} <music21.chord.Chord D4>\n",
            "    {0.5} <music21.chord.Chord A3>\n",
            "    {1.0} <music21.chord.Chord F#4>\n",
            "    {1.5} <music21.chord.Chord D4>\n",
            "    {2.0} <music21.chord.Chord A4>\n",
            "    {2.5} <music21.chord.Chord C4>\n",
            "{9.0} <music21.stream.Measure 4 offset=9.0>\n",
            "    {0.0} <music21.chord.Chord B3>\n",
            "    {0.5} <music21.chord.Chord E4>\n",
            "    {0.75} <music21.chord.Chord F#4>\n",
            "    {1.0} <music21.chord.Chord G4>\n",
            "    {1.5} <music21.chord.Chord E4>\n",
            "    {2.0} <music21.chord.Chord B4>\n",
            "    {2.5} <music21.chord.Chord D4>\n"
          ]
        }
      ]
    },
    {
      "cell_type": "code",
      "source": [
        "if PARSE_MIDI_FILES:\n",
        "    notes, durations = parse_midi_files(\n",
        "        file_list, parser, SEQ_LEN + 1, PARSED_DATA_PATH\n",
        "    )\n",
        "else:\n",
        "    notes, durations = load_parsed_files()"
      ],
      "metadata": {
        "colab": {
          "base_uri": "https://localhost:8080/"
        },
        "id": "eoq0fQPR2Ro8",
        "outputId": "06900de1-1aa8-4fa8-8de1-6fbd156541f8"
      },
      "execution_count": 9,
      "outputs": [
        {
          "output_type": "stream",
          "name": "stdout",
          "text": [
            "1 Parsing /content/data/cs1-2all.mid\n"
          ]
        },
        {
          "output_type": "stream",
          "name": "stderr",
          "text": [
            "<ipython-input-9-04172d0f16ff>:2: Music21DeprecationWarning: .flat is deprecated.  Call .flatten() instead\n",
            "  notes, durations = parse_midi_files(\n"
          ]
        },
        {
          "output_type": "stream",
          "name": "stdout",
          "text": [
            "921 notes parsed\n",
            "2 Parsing /content/data/cs6-3cou.mid\n",
            "2207 notes parsed\n",
            "3 Parsing /content/data/cs4-2all.mid\n",
            "3262 notes parsed\n",
            "4 Parsing /content/data/cs5-6gig.mid\n",
            "3711 notes parsed\n",
            "5 Parsing /content/data/cs3-5bou.mid\n",
            "4592 notes parsed\n",
            "6 Parsing /content/data/cs3-1pre.mid\n",
            "5573 notes parsed\n",
            "7 Parsing /content/data/cs3-4sar.mid\n",
            "5914 notes parsed\n",
            "8 Parsing /content/data/cs5-4sar.mid\n",
            "6133 notes parsed\n",
            "9 Parsing /content/data/cs3-6gig.mid\n",
            "7094 notes parsed\n",
            "10 Parsing /content/data/cs6-4sar.mid\n",
            "7429 notes parsed\n",
            "11 Parsing /content/data/cs3-3cou.mid\n",
            "8418 notes parsed\n",
            "12 Parsing /content/data/cs2-2all.mid\n",
            "9111 notes parsed\n",
            "13 Parsing /content/data/cs5-3cou.mid\n",
            "9541 notes parsed\n",
            "14 Parsing /content/data/cs1-3cou.mid\n",
            "10361 notes parsed\n",
            "15 Parsing /content/data/cs4-1pre.mid\n",
            "11178 notes parsed\n",
            "16 Parsing /content/data/cs2-4sar.mid\n",
            "11515 notes parsed\n",
            "17 Parsing /content/data/cs5-5gav.mid\n",
            "12717 notes parsed\n",
            "18 Parsing /content/data/cs3-2all.mid\n",
            "13454 notes parsed\n",
            "19 Parsing /content/data/cs5-2all.mid\n",
            "14146 notes parsed\n",
            "20 Parsing /content/data/cs1-1pre.mid\n",
            "14804 notes parsed\n",
            "21 Parsing /content/data/cs4-5bou.mid\n",
            "16128 notes parsed\n",
            "22 Parsing /content/data/cs1-4sar.mid\n",
            "16391 notes parsed\n",
            "23 Parsing /content/data/cs2-1pre.mid\n",
            "17029 notes parsed\n",
            "24 Parsing /content/data/cs2-6gig.mid\n",
            "17764 notes parsed\n",
            "25 Parsing /content/data/cs4-6gig.mid\n",
            "18735 notes parsed\n",
            "26 Parsing /content/data/cs4-4sar.mid\n",
            "19055 notes parsed\n",
            "27 Parsing /content/data/cs6-1pre.mid\n",
            "20397 notes parsed\n",
            "28 Parsing /content/data/cs1-5men.mid\n",
            "21044 notes parsed\n",
            "29 Parsing /content/data/cs2-3cou.mid\n",
            "21785 notes parsed\n",
            "30 Parsing /content/data/cs2-5men.mid\n",
            "22312 notes parsed\n",
            "31 Parsing /content/data/cs6-6gig.mid\n",
            "23484 notes parsed\n",
            "32 Parsing /content/data/cs6-2all.mid\n",
            "24169 notes parsed\n",
            "33 Parsing /content/data/cs4-3cou.mid\n",
            "25091 notes parsed\n",
            "34 Parsing /content/data/cs5-1pre.mid\n",
            "26400 notes parsed\n",
            "35 Parsing /content/data/cs1-6gig.mid\n",
            "26826 notes parsed\n",
            "36 Parsing /content/data/cs6-5gav.mid\n",
            "27632 notes parsed\n",
            "Building sequences of length 51\n"
          ]
        }
      ]
    },
    {
      "cell_type": "code",
      "source": [
        "example_notes = notes[658]\n",
        "example_durations = durations[658]\n",
        "print(\"\\nNotes string\\n\", example_notes, \"...\")\n",
        "print(\"\\nDuration string\\n\", example_durations, \"...\")"
      ],
      "metadata": {
        "colab": {
          "base_uri": "https://localhost:8080/"
        },
        "id": "vQFtM_YP1gRk",
        "outputId": "d36551b7-6b65-477b-b2fc-cdc6acaf2118"
      },
      "execution_count": 10,
      "outputs": [
        {
          "output_type": "stream",
          "name": "stdout",
          "text": [
            "\n",
            "Notes string\n",
            " G3 B3 C4 G3 E3 D3 C3 E3 A3 C4 F#3 A3 C4 E4 D4 C3 B2 G3 A2 G2 D2 A2 G3 F#3 G3 G2 B2 D3 G3 B3 D4 F#4 G4 D4 B3 G3 G2 A3 A3 F#3 G3 A3 D3 E3 F#3 G3 A3 F#3 D3 C3 B2 ...\n",
            "\n",
            "Duration string\n",
            " 0.25 0.25 0.25 0.25 0.25 0.25 0.25 0.25 0.25 0.25 0.25 0.25 0.25 0.25 0.75 0.25 0.25 0.25 0.25 0.25 0.25 0.25 0.25 0.25 0.25 0.25 0.25 0.25 0.25 0.25 0.25 0.25 0.25 0.25 0.25 0.25 0.75 0.25 1.25 0.25 0.25 0.25 0.25 0.25 0.25 0.25 0.25 0.25 0.25 0.25 0.25 ...\n"
          ]
        }
      ]
    },
    {
      "cell_type": "markdown",
      "source": [
        "##Tokenization"
      ],
      "metadata": {
        "id": "-M86YNGj1qEl"
      }
    },
    {
      "cell_type": "code",
      "source": [
        "def create_dataset(elements):\n",
        "    ds = (\n",
        "        tf.data.Dataset.from_tensor_slices(elements)\n",
        "        .batch(BATCH_SIZE, drop_remainder=True)\n",
        "        .shuffle(1000)\n",
        "    )\n",
        "    vectorize_layer = layers.TextVectorization(\n",
        "        standardize=None, output_mode=\"int\"\n",
        "    )\n",
        "    vectorize_layer.adapt(ds)\n",
        "    vocab = vectorize_layer.get_vocabulary()\n",
        "    return ds, vectorize_layer, vocab\n",
        "\n",
        "\n",
        "notes_seq_ds, notes_vectorize_layer, notes_vocab = create_dataset(notes)\n",
        "durations_seq_ds, durations_vectorize_layer, durations_vocab = create_dataset(\n",
        "    durations\n",
        ")\n",
        "seq_ds = tf.data.Dataset.zip((notes_seq_ds, durations_seq_ds))\n"
      ],
      "metadata": {
        "id": "rVDmllbg1szx"
      },
      "execution_count": 11,
      "outputs": []
    },
    {
      "cell_type": "code",
      "source": [
        "# Display the same example notes and durations converted to ints\n",
        "example_tokenised_notes = notes_vectorize_layer(example_notes)\n",
        "example_tokenised_durations = durations_vectorize_layer(example_durations)\n",
        "print(\"{:10} {:10}\".format(\"note token\", \"duration token\"))\n",
        "for i, (note_int, duration_int) in enumerate(\n",
        "    zip(\n",
        "        example_tokenised_notes.numpy()[:11],\n",
        "        example_tokenised_durations.numpy()[:11],\n",
        "    )\n",
        "):\n",
        "    print(f\"{note_int:10}{duration_int:10}\")"
      ],
      "metadata": {
        "colab": {
          "base_uri": "https://localhost:8080/"
        },
        "id": "XOSB_oqA1vb1",
        "outputId": "7edbec19-f799-428b-8406-2718acc1f07e"
      },
      "execution_count": 12,
      "outputs": [
        {
          "output_type": "stream",
          "name": "stdout",
          "text": [
            "note token duration token\n",
            "         2         2\n",
            "         9         2\n",
            "         6         2\n",
            "         2         2\n",
            "         8         2\n",
            "         4         2\n",
            "        13         2\n",
            "         8         2\n",
            "         3         2\n",
            "         6         2\n",
            "        12         2\n"
          ]
        }
      ]
    },
    {
      "cell_type": "code",
      "source": [
        "notes_vocab_size = len(notes_vocab)\n",
        "durations_vocab_size = len(durations_vocab)\n",
        "\n",
        "# Display some token:note mappings\n",
        "print(f\"\\nNOTES_VOCAB: length = {len(notes_vocab)}\")\n",
        "for i, note in enumerate(notes_vocab[:10]):\n",
        "    print(f\"{i}: {note}\")\n",
        "\n",
        "print(f\"\\nDURATIONS_VOCAB: length = {len(durations_vocab)}\")\n",
        "# Display some token:duration mappings\n",
        "for i, note in enumerate(durations_vocab[:10]):\n",
        "    print(f\"{i}: {note}\")\n",
        "\n"
      ],
      "metadata": {
        "colab": {
          "base_uri": "https://localhost:8080/"
        },
        "id": "1AmtEC5M1zQc",
        "outputId": "639eeb9e-d55d-4d18-8e54-b08cb080e935"
      },
      "execution_count": 13,
      "outputs": [
        {
          "output_type": "stream",
          "name": "stdout",
          "text": [
            "\n",
            "NOTES_VOCAB: length = 59\n",
            "0: \n",
            "1: [UNK]\n",
            "2: G3\n",
            "3: A3\n",
            "4: D3\n",
            "5: F3\n",
            "6: C4\n",
            "7: D4\n",
            "8: E3\n",
            "9: B3\n",
            "\n",
            "DURATIONS_VOCAB: length = 24\n",
            "0: \n",
            "1: [UNK]\n",
            "2: 0.25\n",
            "3: 0.5\n",
            "4: 1.0\n",
            "5: 1/3\n",
            "6: 0.75\n",
            "7: 1/12\n",
            "8: 1.5\n",
            "9: 0.0\n"
          ]
        }
      ]
    },
    {
      "cell_type": "markdown",
      "source": [
        "##Creating Training Set"
      ],
      "metadata": {
        "id": "KXsdZJEI13dC"
      }
    },
    {
      "cell_type": "code",
      "source": [
        "# Create the training set of sequences and the same sequences shifted by one note\n",
        "def prepare_inputs(notes, durations):\n",
        "    notes = tf.expand_dims(notes, -1)\n",
        "    durations = tf.expand_dims(durations, -1)\n",
        "    tokenized_notes = notes_vectorize_layer(notes)\n",
        "    tokenized_durations = durations_vectorize_layer(durations)\n",
        "    x = (tokenized_notes[:, :-1], tokenized_durations[:, :-1])\n",
        "    y = (tokenized_notes[:, 1:], tokenized_durations[:, 1:])\n",
        "    return x, y\n",
        "\n",
        "\n",
        "ds = seq_ds.map(prepare_inputs).repeat(DATASET_REPETITIONS)"
      ],
      "metadata": {
        "id": "8pvEi0Dc2Oh7"
      },
      "execution_count": 14,
      "outputs": []
    },
    {
      "cell_type": "code",
      "source": [
        "example_input_output = ds.take(1).get_single_element()\n",
        "print(example_input_output)"
      ],
      "metadata": {
        "colab": {
          "base_uri": "https://localhost:8080/"
        },
        "id": "hJwa2irG2QFL",
        "outputId": "200970e4-73c3-4989-b74c-ca4a6def308b"
      },
      "execution_count": 15,
      "outputs": [
        {
          "output_type": "stream",
          "name": "stdout",
          "text": [
            "((<tf.Tensor: shape=(256, 50), dtype=int64, numpy=\n",
            "array([[ 2, 12,  4, ...,  7, 17,  7],\n",
            "       [12,  4,  8, ..., 17,  7, 12],\n",
            "       [ 4,  8, 12, ...,  7, 12, 18],\n",
            "       ...,\n",
            "       [25,  6, 16, ...,  3,  2, 12],\n",
            "       [ 6, 16,  9, ...,  2, 12,  2],\n",
            "       [16,  9,  3, ..., 12,  2,  3]])>, <tf.Tensor: shape=(256, 50), dtype=int64, numpy=\n",
            "array([[2, 2, 2, ..., 2, 2, 2],\n",
            "       [2, 2, 2, ..., 2, 2, 2],\n",
            "       [2, 2, 2, ..., 2, 2, 2],\n",
            "       ...,\n",
            "       [2, 2, 2, ..., 2, 2, 2],\n",
            "       [2, 2, 2, ..., 2, 2, 2],\n",
            "       [2, 2, 2, ..., 2, 2, 2]])>), (<tf.Tensor: shape=(256, 50), dtype=int64, numpy=\n",
            "array([[12,  4,  8, ..., 17,  7, 12],\n",
            "       [ 4,  8, 12, ...,  7, 12, 18],\n",
            "       [ 8, 12, 19, ..., 12, 18, 24],\n",
            "       ...,\n",
            "       [ 6, 16,  9, ...,  2, 12,  2],\n",
            "       [16,  9,  3, ..., 12,  2,  3],\n",
            "       [ 9,  3,  9, ...,  2,  3,  9]])>, <tf.Tensor: shape=(256, 50), dtype=int64, numpy=\n",
            "array([[2, 2, 2, ..., 2, 2, 2],\n",
            "       [2, 2, 2, ..., 2, 2, 2],\n",
            "       [2, 2, 2, ..., 2, 2, 2],\n",
            "       ...,\n",
            "       [2, 2, 2, ..., 2, 2, 2],\n",
            "       [2, 2, 2, ..., 2, 2, 2],\n",
            "       [2, 2, 2, ..., 2, 2, 2]])>))\n"
          ]
        }
      ]
    },
    {
      "cell_type": "markdown",
      "source": [
        "##Casual Attention Mask Function"
      ],
      "metadata": {
        "id": "bTVF94852X63"
      }
    },
    {
      "cell_type": "code",
      "source": [
        "def causal_attention_mask(batch_size, n_dest, n_src, dtype):\n",
        "    i = tf.range(n_dest)[:, None]\n",
        "    j = tf.range(n_src)\n",
        "    m = i >= j - n_src + n_dest\n",
        "    mask = tf.cast(m, dtype)\n",
        "    mask = tf.reshape(mask, [1, n_dest, n_src])\n",
        "    mult = tf.concat(\n",
        "        [tf.expand_dims(batch_size, -1), tf.constant([1, 1], dtype=tf.int32)], 0\n",
        "    )\n",
        "    return tf.tile(mask, mult)\n",
        "\n",
        "\n",
        "np.transpose(causal_attention_mask(1, 10, 10, dtype=tf.int32)[0])"
      ],
      "metadata": {
        "colab": {
          "base_uri": "https://localhost:8080/"
        },
        "id": "vysM6bXv2UVY",
        "outputId": "000a3f84-7c88-47f7-d07d-a1f5a5f7b7d6"
      },
      "execution_count": 16,
      "outputs": [
        {
          "output_type": "execute_result",
          "data": {
            "text/plain": [
              "array([[1, 1, 1, 1, 1, 1, 1, 1, 1, 1],\n",
              "       [0, 1, 1, 1, 1, 1, 1, 1, 1, 1],\n",
              "       [0, 0, 1, 1, 1, 1, 1, 1, 1, 1],\n",
              "       [0, 0, 0, 1, 1, 1, 1, 1, 1, 1],\n",
              "       [0, 0, 0, 0, 1, 1, 1, 1, 1, 1],\n",
              "       [0, 0, 0, 0, 0, 1, 1, 1, 1, 1],\n",
              "       [0, 0, 0, 0, 0, 0, 1, 1, 1, 1],\n",
              "       [0, 0, 0, 0, 0, 0, 0, 1, 1, 1],\n",
              "       [0, 0, 0, 0, 0, 0, 0, 0, 1, 1],\n",
              "       [0, 0, 0, 0, 0, 0, 0, 0, 0, 1]], dtype=int32)"
            ]
          },
          "metadata": {},
          "execution_count": 16
        }
      ]
    },
    {
      "cell_type": "markdown",
      "source": [
        "##Transformer Block Layer"
      ],
      "metadata": {
        "id": "sAI6Yo5l2hcL"
      }
    },
    {
      "cell_type": "code",
      "source": [
        "class TransformerBlock(layers.Layer):\n",
        "    def __init__(\n",
        "        self,\n",
        "        num_heads,\n",
        "        key_dim,\n",
        "        embed_dim,\n",
        "        ff_dim,\n",
        "        name,\n",
        "        dropout_rate=DROPOUT_RATE,\n",
        "    ):\n",
        "        super(TransformerBlock, self).__init__(name=name)\n",
        "        self.num_heads = num_heads\n",
        "        self.key_dim = key_dim\n",
        "        self.embed_dim = embed_dim\n",
        "        self.ff_dim = ff_dim\n",
        "        self.dropout_rate = dropout_rate\n",
        "        self.attn = layers.MultiHeadAttention(\n",
        "            num_heads, key_dim, output_shape=embed_dim\n",
        "        )\n",
        "        self.dropout_1 = layers.Dropout(self.dropout_rate)\n",
        "        self.ln_1 = layers.LayerNormalization(epsilon=1e-6)\n",
        "        self.ffn_1 = layers.Dense(self.ff_dim, activation=\"relu\")\n",
        "        self.ffn_2 = layers.Dense(self.embed_dim)\n",
        "        self.dropout_2 = layers.Dropout(self.dropout_rate)\n",
        "        self.ln_2 = layers.LayerNormalization(epsilon=1e-6)\n",
        "\n",
        "    def call(self, inputs):\n",
        "        input_shape = tf.shape(inputs)\n",
        "        batch_size = input_shape[0]\n",
        "        seq_len = input_shape[1]\n",
        "        causal_mask = causal_attention_mask(\n",
        "            batch_size, seq_len, seq_len, tf.bool\n",
        "        )\n",
        "        attention_output, attention_scores = self.attn(\n",
        "            inputs,\n",
        "            inputs,\n",
        "            attention_mask=causal_mask,\n",
        "            return_attention_scores=True,\n",
        "        )\n",
        "        attention_output = self.dropout_1(attention_output)\n",
        "        out1 = self.ln_1(inputs + attention_output)\n",
        "        ffn_1 = self.ffn_1(out1)\n",
        "        ffn_2 = self.ffn_2(ffn_1)\n",
        "        ffn_output = self.dropout_2(ffn_2)\n",
        "        return (self.ln_2(out1 + ffn_output), attention_scores)\n",
        "\n",
        "    def get_config(self):\n",
        "        config = super().get_config()\n",
        "        config.update(\n",
        "            {\n",
        "                \"key_dim\": self.key_dim,\n",
        "                \"embed_dim\": self.embed_dim,\n",
        "                \"num_heads\": self.num_heads,\n",
        "                \"ff_dim\": self.ff_dim,\n",
        "                \"dropout_rate\": self.dropout_rate,\n",
        "            }\n",
        "        )\n",
        "        return config"
      ],
      "metadata": {
        "id": "OUZY9T7u2kRB"
      },
      "execution_count": 17,
      "outputs": []
    },
    {
      "cell_type": "markdown",
      "source": [
        "##Token and Position Embedding"
      ],
      "metadata": {
        "id": "5OhiZ5-P2-f-"
      }
    },
    {
      "cell_type": "code",
      "source": [
        "class TokenAndPositionEmbedding(layers.Layer):\n",
        "    def __init__(self, vocab_size, embed_dim):\n",
        "        super(TokenAndPositionEmbedding, self).__init__()\n",
        "        self.vocab_size = vocab_size\n",
        "        self.embed_dim = embed_dim\n",
        "        self.token_emb = layers.Embedding(\n",
        "            input_dim=vocab_size,\n",
        "            output_dim=embed_dim,\n",
        "            embeddings_initializer=\"he_uniform\",\n",
        "        )\n",
        "        self.pos_emb = SinePositionEncoding()\n",
        "\n",
        "    def call(self, x):\n",
        "        embedding = self.token_emb(x)\n",
        "        positions = self.pos_emb(embedding)\n",
        "        return embedding + positions\n",
        "\n",
        "    def get_config(self):\n",
        "        config = super().get_config()\n",
        "        config.update(\n",
        "            {\n",
        "                \"vocab_size\": self.vocab_size,\n",
        "                \"embed_dim\": self.embed_dim,\n",
        "            }\n",
        "        )\n",
        "        return config"
      ],
      "metadata": {
        "id": "uu_FrO4D3BIT"
      },
      "execution_count": 18,
      "outputs": []
    },
    {
      "cell_type": "code",
      "source": [
        "tpe = TokenAndPositionEmbedding(notes_vocab_size, 32)\n",
        "token_embedding = tpe.token_emb(example_tokenised_notes)\n",
        "position_embedding = tpe.pos_emb(token_embedding)\n",
        "embedding = tpe(example_tokenised_notes)\n",
        "plt.imshow(\n",
        "    np.transpose(token_embedding),\n",
        "    cmap=\"coolwarm\",\n",
        "    interpolation=\"nearest\",\n",
        "    origin=\"lower\",\n",
        ")\n",
        "plt.show()\n",
        "plt.imshow(\n",
        "    np.transpose(position_embedding),\n",
        "    cmap=\"coolwarm\",\n",
        "    interpolation=\"nearest\",\n",
        "    origin=\"lower\",\n",
        ")\n",
        "plt.show()\n",
        "plt.imshow(\n",
        "    np.transpose(embedding),\n",
        "    cmap=\"coolwarm\",\n",
        "    interpolation=\"nearest\",\n",
        "    origin=\"lower\",\n",
        ")\n",
        "plt.show()"
      ],
      "metadata": {
        "colab": {
          "base_uri": "https://localhost:8080/",
          "height": 1000
        },
        "id": "kIEsv7gi3D-z",
        "outputId": "f401c204-b621-4f4c-b509-d18356033e56"
      },
      "execution_count": 19,
      "outputs": [
        {
          "output_type": "display_data",
          "data": {
            "text/plain": [
              "<Figure size 640x480 with 1 Axes>"
            ],
            "image/png": "[encoded data removed]"
          },
          "metadata": {
            "image/png": {
              "width": 547,
              "height": 354
            }
          }
        },
        {
          "output_type": "display_data",
          "data": {
            "text/plain": [
              "<Figure size 640x480 with 1 Axes>"
            ],
            "image/png": "[encoded data removed]"
          },
          "metadata": {
            "image/png": {
              "width": 547,
              "height": 354
            }
          }
        },
        {
          "output_type": "display_data",
          "data": {
            "text/plain": [
              "<Figure size 640x480 with 1 Axes>"
            ],
            "image/png": "[encoded data removed]"
          },
          "metadata": {
            "image/png": {
              "width": 547,
              "height": 354
            }
          }
        }
      ]
    },
    {
      "cell_type": "markdown",
      "source": [
        "##Build the Transformer Model"
      ],
      "metadata": {
        "id": "MZ9uE34T3N1d"
      }
    },
    {
      "cell_type": "code",
      "source": [
        "note_inputs = layers.Input(shape=(None,), dtype=tf.int32)\n",
        "durations_inputs = layers.Input(shape=(None,), dtype=tf.int32)\n",
        "note_embeddings = TokenAndPositionEmbedding(\n",
        "    notes_vocab_size, EMBEDDING_DIM // 2\n",
        ")(note_inputs)\n",
        "duration_embeddings = TokenAndPositionEmbedding(\n",
        "    durations_vocab_size, EMBEDDING_DIM // 2\n",
        ")(durations_inputs)\n",
        "embeddings = layers.Concatenate()([note_embeddings, duration_embeddings])\n",
        "x, attention_scores = TransformerBlock(\n",
        "    N_HEADS, KEY_DIM, EMBEDDING_DIM, FEED_FORWARD_DIM, name=\"attention\"\n",
        ")(embeddings)\n",
        "note_outputs = layers.Dense(\n",
        "    notes_vocab_size, activation=\"softmax\", name=\"note_outputs\"\n",
        ")(x)\n",
        "duration_outputs = layers.Dense(\n",
        "    durations_vocab_size, activation=\"softmax\", name=\"duration_outputs\"\n",
        ")(x)\n",
        "model = models.Model(\n",
        "    inputs=[note_inputs, durations_inputs],\n",
        "    outputs=[note_outputs, duration_outputs],  # attention_scores\n",
        ")\n",
        "model.compile(\n",
        "    \"adam\",\n",
        "    loss=[\n",
        "        losses.SparseCategoricalCrossentropy(),\n",
        "        losses.SparseCategoricalCrossentropy(),\n",
        "    ],\n",
        ")\n",
        "att_model = models.Model(\n",
        "    inputs=[note_inputs, durations_inputs], outputs=attention_scores\n",
        ")\n"
      ],
      "metadata": {
        "id": "5jbKZ5tk3QQr"
      },
      "execution_count": 20,
      "outputs": []
    },
    {
      "cell_type": "code",
      "source": [
        "model.summary()"
      ],
      "metadata": {
        "colab": {
          "base_uri": "https://localhost:8080/"
        },
        "id": "YV7zH3wz3q9n",
        "outputId": "8e7a4236-a724-46e1-f91b-f6f04ebe396b"
      },
      "execution_count": 21,
      "outputs": [
        {
          "output_type": "stream",
          "name": "stdout",
          "text": [
            "Model: \"model\"\n",
            "__________________________________________________________________________________________________\n",
            " Layer (type)                Output Shape                 Param #   Connected to                  \n",
            "==================================================================================================\n",
            " input_1 (InputLayer)        [(None, None)]               0         []                            \n",
            "                                                                                                  \n",
            " input_2 (InputLayer)        [(None, None)]               0         []                            \n",
            "                                                                                                  \n",
            " token_and_position_embeddi  (None, None, 128)            7552      ['input_1[0][0]']             \n",
            " ng_1 (TokenAndPositionEmbe                                                                       \n",
            " dding)                                                                                           \n",
            "                                                                                                  \n",
            " token_and_position_embeddi  (None, None, 128)            3072      ['input_2[0][0]']             \n",
            " ng_2 (TokenAndPositionEmbe                                                                       \n",
            " dding)                                                                                           \n",
            "                                                                                                  \n",
            " concatenate (Concatenate)   (None, None, 256)            0         ['token_and_position_embedding\n",
            "                                                                    _1[0][0]',                    \n",
            "                                                                     'token_and_position_embedding\n",
            "                                                                    _2[0][0]']                    \n",
            "                                                                                                  \n",
            " attention (TransformerBloc  ((None, None, 256),          1447424   ['concatenate[0][0]']         \n",
            " k)                           (None, 5, None, None))                                              \n",
            "                                                                                                  \n",
            " note_outputs (Dense)        (None, None, 59)             15163     ['attention[0][0]']           \n",
            "                                                                                                  \n",
            " duration_outputs (Dense)    (None, None, 24)             6168      ['attention[0][0]']           \n",
            "                                                                                                  \n",
            "==================================================================================================\n",
            "Total params: 1479379 (5.64 MB)\n",
            "Trainable params: 1479379 (5.64 MB)\n",
            "Non-trainable params: 0 (0.00 Byte)\n",
            "__________________________________________________________________________________________________\n"
          ]
        }
      ]
    },
    {
      "cell_type": "markdown",
      "source": [
        "##Training Transformer"
      ],
      "metadata": {
        "id": "3DRlHgaZ3vhu"
      }
    },
    {
      "cell_type": "code",
      "source": [
        "# Create a MusicGenerator checkpoint\n",
        "class MusicGenerator(callbacks.Callback):\n",
        "    def __init__(self, index_to_note, index_to_duration, top_k=10):\n",
        "        self.index_to_note = index_to_note\n",
        "        self.note_to_index = {\n",
        "            note: index for index, note in enumerate(index_to_note)\n",
        "        }\n",
        "        self.index_to_duration = index_to_duration\n",
        "        self.duration_to_index = {\n",
        "            duration: index for index, duration in enumerate(index_to_duration)\n",
        "        }\n",
        "\n",
        "    def sample_from(self, probs, temperature):\n",
        "        probs = probs ** (1 / temperature)\n",
        "        probs = probs / np.sum(probs)\n",
        "        return np.random.choice(len(probs), p=probs), probs\n",
        "\n",
        "    def get_note(self, notes, durations, temperature):\n",
        "        sample_note_idx = 1\n",
        "        while sample_note_idx == 1:\n",
        "            sample_note_idx, note_probs = self.sample_from(\n",
        "                notes[0][-1], temperature\n",
        "            )\n",
        "            sample_note = self.index_to_note[sample_note_idx]\n",
        "\n",
        "        sample_duration_idx = 1\n",
        "        while sample_duration_idx == 1:\n",
        "            sample_duration_idx, duration_probs = self.sample_from(\n",
        "                durations[0][-1], temperature\n",
        "            )\n",
        "            sample_duration = self.index_to_duration[sample_duration_idx]\n",
        "\n",
        "        new_note = get_midi_note(sample_note, sample_duration)\n",
        "\n",
        "        return (\n",
        "            new_note,\n",
        "            sample_note_idx,\n",
        "            sample_note,\n",
        "            note_probs,\n",
        "            sample_duration_idx,\n",
        "            sample_duration,\n",
        "            duration_probs,\n",
        "        )\n",
        "\n",
        "    def generate(self, start_notes, start_durations, max_tokens, temperature):\n",
        "        attention_model = models.Model(\n",
        "            inputs=self.model.input,\n",
        "            outputs=self.model.get_layer(\"attention\").output,\n",
        "        )\n",
        "\n",
        "        start_note_tokens = [self.note_to_index.get(x, 1) for x in start_notes]\n",
        "        start_duration_tokens = [\n",
        "            self.duration_to_index.get(x, 1) for x in start_durations\n",
        "        ]\n",
        "        sample_note = None\n",
        "        sample_duration = None\n",
        "        info = []\n",
        "        midi_stream = music21.stream.Stream()\n",
        "\n",
        "        midi_stream.append(music21.clef.BassClef())\n",
        "\n",
        "        for sample_note, sample_duration in zip(start_notes, start_durations):\n",
        "            new_note = get_midi_note(sample_note, sample_duration)\n",
        "            if new_note is not None:\n",
        "                midi_stream.append(new_note)\n",
        "\n",
        "        while len(start_note_tokens) < max_tokens:\n",
        "            x1 = np.array([start_note_tokens])\n",
        "            x2 = np.array([start_duration_tokens])\n",
        "            notes, durations = self.model.predict([x1, x2], verbose=0)\n",
        "\n",
        "            repeat = True\n",
        "\n",
        "            while repeat:\n",
        "                (\n",
        "                    new_note,\n",
        "                    sample_note_idx,\n",
        "                    sample_note,\n",
        "                    note_probs,\n",
        "                    sample_duration_idx,\n",
        "                    sample_duration,\n",
        "                    duration_probs,\n",
        "                ) = self.get_note(notes, durations, temperature)\n",
        "\n",
        "                if (\n",
        "                    isinstance(new_note, music21.chord.Chord)\n",
        "                    or isinstance(new_note, music21.note.Note)\n",
        "                    or isinstance(new_note, music21.note.Rest)\n",
        "                ) and sample_duration == \"0.0\":\n",
        "                    repeat = True\n",
        "                else:\n",
        "                    repeat = False\n",
        "\n",
        "            if new_note is not None:\n",
        "                midi_stream.append(new_note)\n",
        "\n",
        "            _, att = attention_model.predict([x1, x2], verbose=0)\n",
        "\n",
        "            info.append(\n",
        "                {\n",
        "                    \"prompt\": [start_notes.copy(), start_durations.copy()],\n",
        "                    \"midi\": midi_stream,\n",
        "                    \"chosen_note\": (sample_note, sample_duration),\n",
        "                    \"note_probs\": note_probs,\n",
        "                    \"duration_probs\": duration_probs,\n",
        "                    \"atts\": att[0, :, -1, :],\n",
        "                }\n",
        "            )\n",
        "            start_note_tokens.append(sample_note_idx)\n",
        "            start_duration_tokens.append(sample_duration_idx)\n",
        "            start_notes.append(sample_note)\n",
        "            start_durations.append(sample_duration)\n",
        "\n",
        "            if sample_note == \"START\":\n",
        "                break\n",
        "\n",
        "        return info\n",
        "\n",
        "    def on_epoch_end(self, epoch, logs=None):\n",
        "        info = self.generate(\n",
        "            [\"START\"], [\"0.0\"], max_tokens=GENERATE_LEN, temperature=0.5\n",
        "        )\n",
        "        midi_stream = info[-1][\"midi\"].chordify()\n",
        "        print(info[-1][\"prompt\"])\n",
        "        #midi_stream.show()\n",
        "        midi_stream.write(\n",
        "            \"midi\",\n",
        "            fp=os.path.join(\n",
        "                \"/content/output\",\n",
        "                \"output-\" + str(epoch).zfill(4) + \".mid\",\n",
        "            ),\n",
        "        )\n"
      ],
      "metadata": {
        "id": "4KjwD96v3xcL"
      },
      "execution_count": 22,
      "outputs": []
    },
    {
      "cell_type": "code",
      "source": [
        "# Tokenize starting prompt\n",
        "music_generator = MusicGenerator(notes_vocab, durations_vocab)"
      ],
      "metadata": {
        "id": "wXHrijYv31HZ"
      },
      "execution_count": 23,
      "outputs": []
    },
    {
      "cell_type": "code",
      "source": [
        "# Train saved model\n",
        "!unzip model-20241209T004107Z-001.zip -d /content/model"
      ],
      "metadata": {
        "colab": {
          "base_uri": "https://localhost:8080/"
        },
        "id": "ajHIgGd-2rzN",
        "outputId": "0a809451-4973-42c4-f518-018294dd7a9a"
      },
      "execution_count": 26,
      "outputs": [
        {
          "output_type": "stream",
          "name": "stdout",
          "text": [
            "Archive:  model-20241209T004107Z-001.zip\n",
            "   creating: /content/model/model/assets/\n",
            "  inflating: /content/model/model/fingerprint.pb  \n",
            "  inflating: /content/model/model/variables/variables.index  \n",
            "  inflating: /content/model/model/saved_model.pb  \n",
            "  inflating: /content/model/model/keras_metadata.pb  \n",
            "  inflating: /content/model/model/variables/variables.data-00000-of-00001  \n"
          ]
        }
      ]
    },
    {
      "cell_type": "code",
      "source": [
        "# Move out of model folder to read\n",
        "mv /content/model/model /content/saved_model"
      ],
      "metadata": {
        "id": "BozMV7Nj3hQS"
      },
      "execution_count": 30,
      "outputs": []
    },
    {
      "cell_type": "code",
      "source": [
        "# Load partially trained model\n",
        "model = models.load_model(\"/content/saved_model\")"
      ],
      "metadata": {
        "id": "QFwHQ-cr28Rf"
      },
      "execution_count": 31,
      "outputs": []
    },
    {
      "cell_type": "code",
      "source": [
        "!mkdir output\n",
        "\n",
        "model.fit(\n",
        "    ds,\n",
        "    epochs=EPOCHS,\n",
        "    callbacks=[\n",
        "        music_generator,\n",
        "    ],\n",
        ")"
      ],
      "metadata": {
        "colab": {
          "base_uri": "https://localhost:8080/"
        },
        "id": "JSDHL03v382O",
        "outputId": "04cdf078-815a-4168-b26a-fc9d9e36de23"
      },
      "execution_count": 32,
      "outputs": [
        {
          "output_type": "stream",
          "name": "stdout",
          "text": [
            "Epoch 1/15\n",
            "107/107 [==============================] - ETA: 0s - loss: 2.8730 - note_outputs_loss: 2.3100 - duration_outputs_loss: 0.5630[['START', 'C:major', 'C:major', '4/4TS', 'rest'], ['0.0', '0.0', '3.75', '0.25', '0.25']]\n",
            "107/107 [==============================] - 367s 3s/step - loss: 2.8730 - note_outputs_loss: 2.3100 - duration_outputs_loss: 0.5630\n",
            "Epoch 2/15\n",
            "107/107 [==============================] - ETA: 0s - loss: 2.8351 - note_outputs_loss: 2.2777 - duration_outputs_loss: 0.5573[['START', 'C:major', '3/4TS', 'rest', 'D4', 'D4', 'A3', 'D3', 'C3', 'A3', 'B3', 'A3', 'B3', 'C4', 'A3', 'B3', 'C#4', 'D4', 'E4', 'C#4', 'D4', 'B3', 'A3', 'B3', 'C#4', 'D4', 'C#4', 'D4', 'E4', 'D4', 'C#4', 'D4', 'C#4', 'F#4', 'E4', 'E4', 'E4', 'F#4', 'E4', 'D4', 'C#4', 'D4', 'E4', 'E4', 'E4', 'C#4', 'C#4', 'C#4', 'C#4'], ['0.0', '0.5', '0.5', '0.5', '0.5', '0.5', '0.5', '0.5', '0.5', '0.5', '0.5', '0.5', '0.5', '0.5', '0.5', '0.5', '0.5', '0.5', '0.5', '0.5', '0.5', '0.5', '0.5', '0.5', '0.5', '0.5', '0.5', '0.5', '0.5', '0.5', '0.5', '0.5', '0.5', '0.5', '0.5', '0.5', '0.5', '0.5', '0.5', '0.5', '0.5', '0.5', '0.5', '0.5', '0.5', '0.5', '0.5', '0.5', '0.5']]\n",
            "107/107 [==============================] - 367s 3s/step - loss: 2.8351 - note_outputs_loss: 2.2777 - duration_outputs_loss: 0.5573\n",
            "Epoch 3/15\n",
            "107/107 [==============================] - ETA: 0s - loss: 2.8197 - note_outputs_loss: 2.2661 - duration_outputs_loss: 0.5536[['START', 'E-:major', '4/4TS', 'rest'], ['0.0', '0.25', '0.25', '0.25']]\n",
            "107/107 [==============================] - 357s 3s/step - loss: 2.8197 - note_outputs_loss: 2.2661 - duration_outputs_loss: 0.5536\n",
            "Epoch 4/15\n",
            "107/107 [==============================] - ETA: 0s - loss: 2.7810 - note_outputs_loss: 2.2375 - duration_outputs_loss: 0.5435[['START', 'E-:major', '4/4TS', 'rest', 'E-3', 'D3', 'E-3', 'E-3', 'D3', 'C3', 'D3', 'E-3', 'F3', 'G3', 'E-3', 'D3', 'E-3', 'F3', 'D3', 'E-3', 'F3', 'D3', 'E-3', 'F3', 'G3', 'A3', 'B-3', 'B-3', 'C4', 'B-3', 'A3', 'B-3', 'C4', 'B-3', 'A3', 'B-3', 'A3', 'G3', 'F#3', 'G3', 'D4', 'E-4', 'D4', 'C4', 'B-3', 'A3', 'G3', 'F3', 'E-3'], ['0.0', '0.5', '0.5', '0.5', '0.5', '0.5', '0.5', '0.5', '0.5', '0.5', '0.5', '0.5', '0.5', '0.5', '0.5', '0.5', '0.5', '0.5', '0.5', '0.5', '0.5', '0.5', '0.5', '0.5', '0.5', '0.5', '0.5', '0.5', '0.5', '0.5', '0.5', '0.5', '0.5', '0.5', '0.5', '0.5', '0.5', '0.5', '0.5', '0.5', '0.5', '0.5', '0.5', '0.5', '0.5', '0.5', '0.5', '0.5', '0.5']]\n",
            "107/107 [==============================] - 364s 3s/step - loss: 2.7810 - note_outputs_loss: 2.2375 - duration_outputs_loss: 0.5435\n",
            "Epoch 5/15\n",
            "107/107 [==============================] - ETA: 0s - loss: 2.7707 - note_outputs_loss: 2.2276 - duration_outputs_loss: 0.5431[['START', 'C:major', '4/4TS', 'rest'], ['0.0', '0.25', '0.25', '0.25']]\n",
            "107/107 [==============================] - 358s 3s/step - loss: 2.7707 - note_outputs_loss: 2.2276 - duration_outputs_loss: 0.5431\n",
            "Epoch 6/15\n",
            "107/107 [==============================] - ETA: 0s - loss: 2.7542 - note_outputs_loss: 2.1977 - duration_outputs_loss: 0.5565[['START', 'E-:major', '4/4TS', 'rest', 'E-3', 'D3', 'E-3', 'F3', 'G3', 'E-3', 'F3', 'E-3', 'F3', 'G#3', 'G3', 'F3', 'E-3', 'F3', 'G3', 'G#3', 'B-3', 'C4', 'B-3', 'G#3', 'G3', 'F3', 'E-3', 'D3', 'E-3', 'F3', 'G#3', 'G3', 'F3', 'E-3', 'F3', 'E-3', 'D3', 'C3', 'B2', 'C3', 'D3', 'E-3', 'F3', 'E-3', 'F3', 'B-2', 'E-2', 'G#3', 'G3'], ['0.0', '0.0', '0.0', '1.0', '0.5', '0.5', '0.5', '0.5', '0.5', '0.5', '0.5', '0.5', '0.5', '0.5', '0.5', '0.5', '0.5', '0.5', '0.5', '0.5', '0.5', '0.5', '0.5', '0.5', '0.5', '0.5', '0.5', '0.5', '0.5', '0.5', '0.5', '0.5', '0.5', '1.0', '0.5', '0.5', '0.5', '0.5', '0.5', '0.5', '0.5', '0.5', '0.5', '0.5', '0.5', '0.5', '0.5', '0.5', '0.5']]\n",
            "107/107 [==============================] - 366s 3s/step - loss: 2.7542 - note_outputs_loss: 2.1977 - duration_outputs_loss: 0.5565\n",
            "Epoch 7/15\n",
            "107/107 [==============================] - ETA: 0s - loss: 2.7170 - note_outputs_loss: 2.1772 - duration_outputs_loss: 0.5398[['START', 'E-:major', '3/4TS', 'rest', 'B-3', 'G3', 'E-3', 'C3', 'D3', 'E-3', 'F3', 'G3', 'G#3', 'B-3', 'G3', 'G#3', 'B-3', 'G#3', 'G3', 'G#3', 'B-3', 'G3', 'G#3', 'B-3', 'G3', 'G#3', 'G3', 'G#3', 'G3', 'F3', 'E-3', 'D3', 'E-3', 'F3', 'D3', 'E-3', 'F3', 'D3', 'E-3', 'F3', 'D3', 'E-3', 'F3', 'D3', 'E-3', 'F3', 'G3', 'G#3', 'B-3'], ['0.0', '0.5', '0.5', '0.5', '0.5', '0.5', '0.5', '0.5', '0.5', '0.5', '0.5', '0.5', '0.5', '0.5', '0.5', '0.5', '0.5', '0.5', '0.5', '0.5', '0.5', '0.5', '0.5', '0.5', '0.5', '0.5', '0.5', '0.5', '0.5', '0.5', '0.5', '0.5', '0.5', '0.5', '0.5', '0.5', '0.5', '0.5', '0.5', '0.5', '0.5', '0.5', '0.5', '0.5', '0.5', '0.5', '0.5', '0.5', '0.5']]\n",
            "107/107 [==============================] - 365s 3s/step - loss: 2.7170 - note_outputs_loss: 2.1772 - duration_outputs_loss: 0.5398\n",
            "Epoch 8/15\n",
            "107/107 [==============================] - ETA: 0s - loss: 2.7210 - note_outputs_loss: 2.1767 - duration_outputs_loss: 0.5443[['START', 'E-:major', '4/4TS', 'rest', 'E-3', 'B-3', 'G#3', 'G3', 'F3', 'E-3', 'D3', 'E-3', 'F3', 'G3', 'G#3', 'G3', 'F3', 'G3', 'G#3', 'B-3', 'G#3', 'G3', 'F3', 'E-3', 'F3', 'D3', 'E-3', 'F3', 'G3', 'G#3', 'G3', 'F3', 'G3', 'E-3', 'F3', 'G3', 'G#3', 'G3', 'F3', 'G3', 'G#3', 'G3', 'F3', 'E-3', 'D3', 'C3', 'B-2', 'C3', 'D3'], ['0.0', '0.5', '0.5', '0.5', '0.5', '0.5', '0.5', '0.5', '0.5', '0.5', '0.5', '0.5', '0.5', '0.5', '0.5', '0.5', '0.5', '0.5', '0.5', '0.5', '0.5', '0.5', '0.5', '0.5', '0.5', '0.5', '0.5', '0.5', '0.5', '0.5', '0.5', '0.5', '0.5', '0.5', '0.5', '0.5', '0.5', '0.5', '0.5', '0.5', '0.5', '0.5', '0.5', '0.5', '0.5', '0.5', '0.5', '0.5', '0.5']]\n",
            "107/107 [==============================] - 366s 3s/step - loss: 2.7210 - note_outputs_loss: 2.1767 - duration_outputs_loss: 0.5443\n",
            "Epoch 9/15\n",
            "107/107 [==============================] - ETA: 0s - loss: 2.6924 - note_outputs_loss: 2.1541 - duration_outputs_loss: 0.5384[['START', 'C:major', '3/4TS', 'rest', 'D4', 'D4', 'E4', 'F4', 'E4', 'E4', 'E4', 'F4', 'E4', 'F4', 'E4', 'E4', 'F4', 'E4', 'D4', 'C#4', 'E4', 'C#4', 'E4', 'F4', 'E4', 'F4', 'E4', 'C#4', 'E4', 'E4', 'F4', 'E4', 'F4', 'E4', 'F4', 'E4', 'F4', 'E4', 'E4', 'F4', 'E4', 'F4', 'E4', 'E4', 'F4', 'E4', 'E4', 'F4', 'E4'], ['0.0', '0.25', '0.25', '0.25', '0.25', '0.25', '0.25', '0.25', '0.25', '0.25', '0.25', '0.25', '0.25', '0.25', '0.25', '0.25', '0.25', '0.25', '0.25', '0.25', '0.25', '0.25', '0.25', '0.25', '0.25', '0.25', '0.25', '0.25', '0.25', '0.25', '0.25', '0.25', '0.25', '0.25', '0.25', '0.25', '0.25', '0.25', '0.25', '0.25', '0.25', '0.25', '0.25', '0.25', '0.25', '0.25', '0.25', '0.25', '0.25']]\n",
            "107/107 [==============================] - 366s 3s/step - loss: 2.6924 - note_outputs_loss: 2.1541 - duration_outputs_loss: 0.5384\n",
            "Epoch 10/15\n",
            "107/107 [==============================] - ETA: 0s - loss: 2.6747 - note_outputs_loss: 2.1399 - duration_outputs_loss: 0.5348[['START', 'E-:major', '3/4TS', 'B-2', 'G#2', 'G2', 'G#2', 'F2', 'G#3', 'G3', 'F3', 'E-3', 'D3', 'E-3', 'F3', 'D3', 'E-3', 'F3', 'G3', 'G#3', 'B-3', 'G#3', 'G3', 'F3', 'E-3', 'D3', 'C3', 'B2', 'C3', 'D3', 'E-3', 'F3', 'G3', 'G#3', 'B-3', 'G3', 'G#3', 'F3', 'G3', 'F3', 'E-3', 'D3', 'C3', 'B2', 'C3', 'D3', 'E-3', 'F3', 'E-3'], ['0.0', '3.75', '0.25', '0.5', '0.75', '0.25', '0.75', '0.25', '0.25', '0.25', '0.25', '0.25', '0.5', '0.75', '0.25', '0.5', '0.5', '0.75', '0.25', '0.25', '0.25', '0.25', '0.25', '0.25', '0.25', '0.25', '0.25', '0.25', '0.25', '0.25', '0.25', '0.25', '0.25', '0.25', '0.25', '0.25', '0.25', '0.25', '0.25', '0.25', '0.25', '0.25', '0.25', '0.25', '0.25', '0.25', '0.25', '0.25', '0.25']]\n",
            "107/107 [==============================] - 363s 3s/step - loss: 2.6747 - note_outputs_loss: 2.1399 - duration_outputs_loss: 0.5348\n",
            "Epoch 11/15\n",
            "107/107 [==============================] - ETA: 0s - loss: 2.6602 - note_outputs_loss: 2.1188 - duration_outputs_loss: 0.5414[['START', 'E-:major', '4/4TS', 'rest', 'G3', 'E-3', 'D3', 'C3', 'B-2', 'D3', 'G#2', 'G2', 'E-3', 'F3', 'G3', 'G#3', 'B-3', 'C4', 'B-3', 'G#3', 'B-3', 'G#3', 'G3', 'G#3', 'B-3', 'G#3', 'B-3', 'G3', 'E-3', 'C2', 'E-3', 'G3', 'C3', 'B-2', 'G#2', 'G#3', 'G3', 'G#3', 'F3', 'G3', 'G#3', 'G#3', 'G3', 'F3', 'E-3', 'D3', 'C3', 'B-2', 'G#2'], ['0.0', '0.5', '0.5', '0.5', '0.5', '0.5', '0.5', '0.5', '0.5', '0.5', '0.5', '0.5', '0.5', '0.5', '0.5', '0.5', '0.5', '0.5', '0.5', '0.5', '0.5', '0.5', '0.5', '0.5', '0.5', '0.5', '0.5', '0.5', '0.5', '0.5', '0.5', '0.5', '0.5', '0.5', '0.5', '0.5', '0.5', '0.5', '0.5', '0.5', '0.5', '0.5', '0.5', '0.5', '0.5', '0.5', '0.5', '0.5', '0.5']]\n",
            "107/107 [==============================] - 364s 3s/step - loss: 2.6602 - note_outputs_loss: 2.1188 - duration_outputs_loss: 0.5414\n",
            "Epoch 12/15\n",
            "107/107 [==============================] - ETA: 0s - loss: 2.6426 - note_outputs_loss: 2.1073 - duration_outputs_loss: 0.5353[['START', 'E-:major', '3/4TS', 'rest', 'C4', 'C4', 'B-3', 'A3', 'G3', 'A3', 'B-3', 'D4', 'C4', 'D4', 'E-4', 'D4', 'C4', 'E-4', 'D4', 'C4', 'B-3', 'A3', 'G3', 'F3', 'E-3', 'D3', 'F3', 'E-3', 'D3', 'E-3', 'F3', 'D3', 'E-3', 'F3', 'G3', 'A3', 'B-3', 'G3', 'A3', 'F3', 'D3', 'C4', 'B-3', 'A3', 'B-3', 'G3', 'A3', 'G3', 'F3'], ['0.0', '0.5', '0.5', '0.5', '0.5', '0.5', '0.5', '0.5', '0.5', '0.5', '0.5', '0.5', '0.5', '0.5', '0.5', '0.5', '0.5', '0.5', '0.5', '0.5', '0.5', '0.5', '0.5', '0.5', '0.5', '0.5', '0.5', '0.5', '0.5', '0.5', '0.5', '0.5', '0.5', '0.5', '0.5', '0.5', '0.5', '0.5', '0.5', '0.5', '0.5', '0.5', '0.5', '0.5', '0.5', '0.5', '0.5', '0.5', '0.5']]\n",
            "107/107 [==============================] - 361s 3s/step - loss: 2.6426 - note_outputs_loss: 2.1073 - duration_outputs_loss: 0.5353\n",
            "Epoch 13/15\n",
            "107/107 [==============================] - ETA: 0s - loss: 2.6358 - note_outputs_loss: 2.0932 - duration_outputs_loss: 0.5426[['START', 'E-:major', '4/4TS', 'rest', 'G3', 'E-3', 'B-2', 'G#2', 'G2', 'E-3', 'B-2', 'G#2', 'G2', 'B-2', 'E-3', 'F3', 'B-2', 'D3', 'G2', 'B-2', 'D3', 'G2', 'B-2', 'D3', 'G2', 'B-3', 'C4', 'B-3', 'G#3', 'G3', 'F3', 'E-3', 'D3', 'C3', 'B-2', 'G#2', 'G2', 'B-2', 'C3', 'D3', 'E-3', 'G2', 'B-2', 'C3', 'D3', 'E-3', 'F3', 'G3', 'G#3'], ['0.0', '0.5', '0.5', '0.5', '0.5', '0.5', '0.5', '0.5', '0.5', '0.5', '0.5', '0.5', '0.5', '0.5', '0.5', '0.5', '0.5', '0.5', '0.5', '0.5', '0.5', '0.5', '0.5', '0.5', '0.5', '0.5', '0.5', '0.5', '0.5', '0.5', '0.5', '0.5', '0.5', '0.5', '0.5', '0.5', '0.5', '0.5', '0.5', '0.5', '0.5', '0.5', '0.5', '0.5', '0.5', '0.5', '0.5', '0.5', '0.5']]\n",
            "107/107 [==============================] - 362s 3s/step - loss: 2.6358 - note_outputs_loss: 2.0932 - duration_outputs_loss: 0.5426\n",
            "Epoch 14/15\n",
            "107/107 [==============================] - ETA: 0s - loss: 2.6071 - note_outputs_loss: 2.0760 - duration_outputs_loss: 0.5310[['START', 'F:major', '3/4TS', 'A3', 'A3', 'A3', 'A3', 'A3', 'A3', 'A3', 'A3', 'A3', 'A3', 'A3', 'A3', 'A3', 'A3', 'A3', 'A3', 'A3', 'A3', 'A3', 'A3', 'A3', 'A3', 'A3', 'A3', 'A3', 'A3', 'A3', 'A3', 'A3', 'A3', 'A3', 'A3', 'A3', 'A3', 'A3', 'A3', 'A3', 'A3', 'A3', 'A3', 'A3', 'A3', 'A3', 'A3', 'A3', 'A3'], ['0.0', '0.25', '0.25', '0.25', '0.25', '0.25', '0.25', '0.25', '0.25', '0.25', '0.25', '0.25', '0.25', '0.25', '0.25', '0.25', '0.25', '0.25', '0.25', '0.25', '0.25', '0.25', '0.25', '0.25', '0.25', '0.25', '0.25', '0.25', '0.25', '0.25', '0.25', '0.25', '0.25', '0.25', '0.25', '0.25', '0.25', '0.25', '0.25', '0.25', '0.25', '0.25', '0.25', '0.25', '0.25', '0.25', '0.25', '0.25', '0.25']]\n",
            "107/107 [==============================] - 362s 3s/step - loss: 2.6071 - note_outputs_loss: 2.0760 - duration_outputs_loss: 0.5310\n",
            "Epoch 15/15\n",
            "107/107 [==============================] - ETA: 0s - loss: 2.5895 - note_outputs_loss: 2.0561 - duration_outputs_loss: 0.5334[['START', 'E-:major', '4/4TS', 'rest', 'C4', 'F3', 'B-3', 'G#3', 'G3', 'F3', 'E-3', 'F3', 'G3', 'G#3', 'B-3', 'G3', 'G#3', 'B-3', 'G3', 'G#3', 'B-3', 'G3', 'G#3', 'B-3', 'G#3', 'G3', 'F3', 'E-3', 'D3', 'E-3', 'F3', 'G3', 'G#3', 'B-3', 'G3', 'G#3', 'B-3', 'G#3', 'G3', 'F3', 'E-3', 'G3', 'F3', 'E-3', 'D3', 'E-3', 'F3', 'G3', 'G#3'], ['0.0', '0.25', '0.25', '0.25', '0.25', '0.25', '0.25', '0.25', '0.25', '0.25', '0.25', '0.25', '0.25', '0.25', '0.25', '0.25', '0.25', '0.25', '0.25', '0.25', '0.25', '0.25', '0.25', '0.25', '0.25', '0.25', '0.25', '0.25', '0.25', '0.25', '0.25', '0.25', '0.25', '0.25', '0.25', '0.25', '0.25', '0.25', '0.25', '0.25', '0.25', '0.25', '0.25', '0.25', '0.25', '0.25', '0.25', '0.25', '0.25']]\n",
            "107/107 [==============================] - 365s 3s/step - loss: 2.5895 - note_outputs_loss: 2.0561 - duration_outputs_loss: 0.5334\n"
          ]
        },
        {
          "output_type": "execute_result",
          "data": {
            "text/plain": [
              "<keras.src.callbacks.History at 0x7a5ef775f190>"
            ]
          },
          "metadata": {},
          "execution_count": 32
        }
      ]
    },
    {
      "cell_type": "code",
      "source": [
        "# Save the final model\n",
        "model.save(\"/content/model\")"
      ],
      "metadata": {
        "id": "AF0hXzYM4Gj0"
      },
      "execution_count": 33,
      "outputs": []
    },
    {
      "cell_type": "markdown",
      "source": [
        "#Generating Music"
      ],
      "metadata": {
        "id": "HbBVAtYP4H3v"
      }
    },
    {
      "cell_type": "code",
      "source": [
        "info = music_generator.generate(\n",
        "    [\"START\"], [\"0.0\"], max_tokens=50, temperature=0.5\n",
        ")\n",
        "midi_stream = info[-1][\"midi\"].chordify()\n",
        "#midi_stream.show()"
      ],
      "metadata": {
        "id": "LHeuA9LU4hOS"
      },
      "execution_count": 45,
      "outputs": []
    },
    {
      "cell_type": "markdown",
      "source": [
        "##Write music to MIDI file"
      ],
      "metadata": {
        "id": "ODfFt9lf4kVS"
      }
    },
    {
      "cell_type": "code",
      "source": [
        "!mkdir transformer_output\n",
        "\n",
        "timestr = time.strftime(\"%Y%m%d-%H%M%S\")\n",
        "midi_stream.write(\n",
        "    \"midi\",\n",
        "    fp=os.path.join(\n",
        "        \"/content/transformer_output\",\n",
        "        \"output-\" + timestr + \".mid\",\n",
        "    ),\n",
        ")"
      ],
      "metadata": {
        "id": "7zkl6Dvq4m2M",
        "colab": {
          "base_uri": "https://localhost:8080/",
          "height": 72
        },
        "outputId": "27ea886c-94a1-4c9f-8f3b-8867449b56e7"
      },
      "execution_count": 47,
      "outputs": [
        {
          "output_type": "stream",
          "name": "stdout",
          "text": [
            "mkdir: cannot create directory ‘transformer_output’: File exists\n"
          ]
        },
        {
          "output_type": "execute_result",
          "data": {
            "text/plain": [
              "'/content/transformer_output/output-2-20241209-021851.mid'"
            ],
            "application/vnd.google.colaboratory.intrinsic+json": {
              "type": "string"
            }
          },
          "metadata": {},
          "execution_count": 47
        }
      ]
    },
    {
      "cell_type": "markdown",
      "source": [
        "##Note probabilities"
      ],
      "metadata": {
        "id": "BFDzowRn4pcA"
      }
    },
    {
      "cell_type": "code",
      "source": [
        "max_pitch = 70\n",
        "seq_len = len(info)\n",
        "grid = np.zeros((max_pitch, seq_len), dtype=np.float32)\n",
        "\n",
        "for j in range(seq_len):\n",
        "    for i, prob in enumerate(info[j][\"note_probs\"]):\n",
        "        try:\n",
        "            pitch = music21.note.Note(notes_vocab[i]).pitch.midi\n",
        "            grid[pitch, j] = prob\n",
        "        except:\n",
        "            pass  # Don't show key / time signatures"
      ],
      "metadata": {
        "id": "xjk6nRHe4o_v"
      },
      "execution_count": 48,
      "outputs": []
    },
    {
      "cell_type": "code",
      "source": [
        "fig, ax = plt.subplots(figsize=(8, 8))\n",
        "ax.set_yticks([int(j) for j in range(35, 70)])\n",
        "plt.imshow(\n",
        "    grid[35:70, :],\n",
        "    origin=\"lower\",\n",
        "    cmap=\"coolwarm\",\n",
        "    vmin=-0.5,\n",
        "    vmax=0.5,\n",
        "    extent=[0, seq_len, 35, 70],\n",
        ")\n",
        "plt.show()"
      ],
      "metadata": {
        "id": "JvVAwD4b4t8l",
        "colab": {
          "base_uri": "https://localhost:8080/",
          "height": 523
        },
        "outputId": "083b1983-fb68-491e-99f6-1dace5266c15"
      },
      "execution_count": 49,
      "outputs": [
        {
          "output_type": "display_data",
          "data": {
            "text/plain": [
              "<Figure size 800x800 with 1 Axes>"
            ],
            "image/png": "[encoded data removed]"
          },
          "metadata": {
            "image/png": {
              "width": 667,
              "height": 486
            }
          }
        }
      ]
    },
    {
      "cell_type": "markdown",
      "source": [
        "##Attention Plot"
      ],
      "metadata": {
        "id": "Z5DH3JeZ406W"
      }
    },
    {
      "cell_type": "code",
      "source": [
        "plot_size = 20\n",
        "\n",
        "att_matrix = np.zeros((plot_size, plot_size))\n",
        "prediction_output = []\n",
        "last_prompt = []"
      ],
      "metadata": {
        "id": "bJx45T6z416n"
      },
      "execution_count": 50,
      "outputs": []
    },
    {
      "cell_type": "code",
      "source": [
        "for j in range(plot_size):\n",
        "    atts = info[j][\"atts\"].max(axis=0)\n",
        "    att_matrix[: (j + 1), j] = atts\n",
        "    prediction_output.append(info[j][\"chosen_note\"][0])\n",
        "    last_prompt.append(info[j][\"prompt\"][0][-1])"
      ],
      "metadata": {
        "id": "IcNgQovO44ab"
      },
      "execution_count": 51,
      "outputs": []
    },
    {
      "cell_type": "code",
      "source": [
        "fig, ax = plt.subplots(figsize=(8, 8))\n",
        "im = ax.imshow(att_matrix, cmap=\"Greens\", interpolation=\"nearest\")\n",
        "\n",
        "ax.set_xticks(np.arange(-0.5, plot_size, 1), minor=True)\n",
        "ax.set_yticks(np.arange(-0.5, plot_size, 1), minor=True)\n",
        "ax.grid(which=\"minor\", color=\"black\", linestyle=\"-\", linewidth=1)\n",
        "ax.set_xticks(np.arange(plot_size))\n",
        "ax.set_yticks(np.arange(plot_size))\n",
        "ax.set_xticklabels(prediction_output[:plot_size])\n",
        "ax.set_yticklabels(last_prompt[:plot_size])\n",
        "ax.xaxis.tick_top()\n",
        "\n",
        "plt.setp(\n",
        "    ax.get_xticklabels(),\n",
        "    rotation=90,\n",
        "    ha=\"left\",\n",
        "    va=\"center\",\n",
        "    rotation_mode=\"anchor\",\n",
        ")\n",
        "plt.show()"
      ],
      "metadata": {
        "id": "-7ZJEEuN46Yh",
        "colab": {
          "base_uri": "https://localhost:8080/",
          "height": 741
        },
        "outputId": "fe313f4c-2094-4677-d1a6-dd2f002f06db"
      },
      "execution_count": 52,
      "outputs": [
        {
          "output_type": "display_data",
          "data": {
            "text/plain": [
              "<Figure size 800x800 with 1 Axes>"
            ],
            "image/png": "[encoded data removed]"
          },
          "metadata": {
            "image/png": {
              "width": 704,
              "height": 704
            }
          }
        }
      ]
    },
    {
      "cell_type": "markdown",
      "source": [
        "##Save Everything"
      ],
      "metadata": {
        "id": "3fLGeheC4_K9"
      }
    },
    {
      "cell_type": "code",
      "source": [
        "from google.colab import files\n",
        "import shutil\n",
        "\n",
        "shutil.make_archive(\"/content/model\", 'zip', \"my_folder\")\n",
        "shutil.make_archive(\"/content/output\", 'zip', \"my_folder\")\n",
        "shutil.make_archive(\"/content/transformer_output\", 'zip', \"my_folder\")\n",
        "shutil.make_archive(\"/content/data\", 'zip', \"my_folder\")"
      ],
      "metadata": {
        "id": "F42QXEyY5G3z",
        "colab": {
          "base_uri": "https://localhost:8080/",
          "height": 55
        },
        "outputId": "735748d0-9153-49ad-957c-c26a38a4f27e"
      },
      "execution_count": 53,
      "outputs": [
        {
          "output_type": "execute_result",
          "data": {
            "text/plain": [
              "'/content/data.zip'"
            ],
            "application/vnd.google.colaboratory.intrinsic+json": {
              "type": "string"
            }
          },
          "metadata": {},
          "execution_count": 53
        }
      ]
    },
    {
      "cell_type": "code",
      "source": [
        "from google.colab import drive\n",
        "drive.mount('/content/drive')"
      ],
      "metadata": {
        "id": "EK6_Pud_5JII",
        "colab": {
          "base_uri": "https://localhost:8080/"
        },
        "outputId": "146bdcaf-3668-45d5-94f5-aa5e99714326"
      },
      "execution_count": 54,
      "outputs": [
        {
          "output_type": "stream",
          "name": "stdout",
          "text": [
            "Drive already mounted at /content/drive; to attempt to forcibly remount, call drive.mount(\"/content/drive\", force_remount=True).\n"
          ]
        }
      ]
    },
    {
      "cell_type": "code",
      "source": [
        "# Saving the model and its data on the Google drive\n",
        "\n",
        "!cp -r /content/data /content/drive/MyDrive/GenAI3\n",
        "!cp -r /content/model /content/drive/MyDrive/GenAI3\n",
        "!cp -r /content/output /content/drive/MyDrive/GenAI3\n",
        "!cp -r /content/transformer_output /content/drive/MyDrive/GenAI3"
      ],
      "metadata": {
        "id": "elQDNitx5LLv"
      },
      "execution_count": 55,
      "outputs": []
    },
    {
      "cell_type": "code",
      "source": [
        "# Save model for further training\n",
        "!zip part_model.zip /content/model"
      ],
      "metadata": {
        "colab": {
          "base_uri": "https://localhost:8080/"
        },
        "id": "RUpQZ-nYz4GV",
        "outputId": "82827a73-cced-41b1-e745-fca5ed392917"
      },
      "execution_count": 56,
      "outputs": [
        {
          "output_type": "stream",
          "name": "stdout",
          "text": [
            "updating: content/model/ (stored 0%)\n"
          ]
        }
      ]
    }
  ]
}